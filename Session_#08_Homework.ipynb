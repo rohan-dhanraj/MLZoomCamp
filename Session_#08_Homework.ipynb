{
 "cells": [
  {
   "cell_type": "markdown",
   "id": "28b5ace6",
   "metadata": {},
   "source": [
    "### Dataset\n",
    "\n",
    "In this homework, we'll build a model for predicting if we have an image of a dog or a cat. For this,\n",
    "we will use the \"Dogs & Cats\" dataset that can be downloaded from [Kaggle](https://www.kaggle.com/c/dogs-vs-cats/data). \n",
    "\n",
    "You need to download the `train.zip` file.\n",
    "\n",
    "If you have troubles downloading from Kaggle, use [this link](https://github.com/alexeygrigorev/large-datasets/releases/download/dogs-cats/train.zip) instead:\n",
    "\n",
    "```bash\n",
    "wget https://github.com/alexeygrigorev/large-datasets/releases/download/dogs-cats/train.zip\n",
    "```\n",
    "\n",
    "In the lectures we saw how to use a pre-trained neural network. In the homework, we'll train a much smaller model from scratch. \n",
    "\n",
    "**Note:** You don't need a computer with a GPU for this homework. A laptop or any personal computer should be sufficient. \n",
    "\n",
    "\n",
    "### Data Preparation\n",
    "\n",
    "The dataset contains 12,500 images of cats and 12,500 images of dogs. \n",
    "\n",
    "Now we need to split this data into train and validation\n",
    "\n",
    "* Create a `train` and `validation` folders\n",
    "* In each folder, create `cats` and `dogs` folders\n",
    "* Move the first 10,000 images to the train folder (from 0 to 9999) for boths cats and dogs - and put them in respective folders\n",
    "* Move the remaining 2,500 images to the validation folder (from 10000 to 12499)\n",
    "\n",
    "You can do this manually or with Python (check `os` and `shutil` packages).\n",
    "\n",
    "\n",
    "### Model\n",
    "\n",
    "For this homework we will use Convolutional Neural Network (CNN. Like in the lectures, we'll use Keras.\n",
    "\n",
    "You need to develop the model with following structure:\n",
    "\n",
    "* The shape for input should be `(150, 150, 3)`\n",
    "* Next, create a covolutional layer ([`Conv2D`](https://keras.io/api/layers/convolution_layers/convolution2d/)):\n",
    "    * Use 32 filters\n",
    "    * Kernel size should be `(3, 3)` (that's the size of the filter)\n",
    "    * Use `'relu'` as activation \n",
    "* Reduce the size of the feature map with max pooling ([`MaxPooling2D`](https://keras.io/api/layers/pooling_layers/max_pooling2d/))\n",
    "    * Set the pooling size to `(2, 2)`\n",
    "* Turn the multi-dimensional result into vectors using a [`Flatten`](https://keras.io/api/layers/reshaping_layers/flatten/) layer\n",
    "* Next, add a `Dense` layer with 64 neurons and `'relu'` activation\n",
    "* Finally, create the `Dense` layer with 1 neuron - this will be the output\n",
    "    * The output layer should have an activation - use the appropriate activation for the binary classification case\n",
    "\n",
    "As optimizer use [`SGD`](https://keras.io/api/optimizers/sgd/) with the following parameters:\n",
    "\n",
    "* `SGD(lr=0.002, momentum=0.8)`\n",
    "\n",
    "\n",
    "For clarification about kernel size and max pooling, check [Week #11 Office Hours](https://www.youtube.com/watch?v=1WRgdBTUaAc)."
   ]
  },
  {
   "cell_type": "code",
   "execution_count": 1,
   "id": "d57ec666",
   "metadata": {},
   "outputs": [],
   "source": [
    "import os\n",
    "import zipfile\n",
    "import random\n",
    "\n",
    "import pandas as pd\n",
    "import numpy as np\n",
    "import seaborn as sns\n",
    "import matplotlib.pyplot as plt\n",
    "%matplotlib inline\n",
    "\n",
    "from sklearn.model_selection import train_test_split\n",
    "from sklearn.metrics import ConfusionMatrixDisplay, confusion_matrix, classification_report \n",
    "\n",
    "import tensorflow as tf\n",
    "from tensorflow import keras\n",
    "from tensorflow.keras.preprocessing.image import load_img, ImageDataGenerator\n",
    "from tensorflow.keras.models import Sequential, Model\n",
    "from tensorflow.keras.layers import Conv2D, MaxPool2D, Flatten, Dense, GlobalAveragePooling2D, Dropout, BatchNormalization, InputLayer, Input\n",
    "from tensorflow.keras.applications.xception import Xception, preprocess_input, decode_predictions"
   ]
  },
  {
   "cell_type": "code",
   "execution_count": 15,
   "id": "994630e7",
   "metadata": {},
   "outputs": [],
   "source": [
    "# Defining Layers\n",
    "Layers = [\n",
    "    keras.Input(shape=(150, 150, 3), name='InputLayer'),\n",
    "    keras.layers.Conv2D(filters = 32,\n",
    "                        kernel_size = (3, 3),\n",
    "                        activation = 'relu',\n",
    "                        name = 'ConvolutionalLayer'\n",
    "                        ),\n",
    "    keras.layers.MaxPool2D(pool_size = (2, 2), name = 'MaxPooling'),\n",
    "    keras.layers.Flatten(name='Flatten'),\n",
    "    keras.layers.Dense(units = 64, activation = 'relu', name = 'Inner'),\n",
    "    keras.layers.Dense(units=1, activation='sigmoid', name='Outer')\n",
    "]\n",
    "\n",
    "# Defining Model\n",
    "model = Sequential(Layers)\n",
    "\n",
    "# Defining Optimizer\n",
    "optimizer = keras.optimizers.SGD(learning_rate = 0.002, momentum = 0.8)"
   ]
  },
  {
   "cell_type": "markdown",
   "id": "4ca26f13",
   "metadata": {},
   "source": [
    "### Question 1\n",
    "\n",
    "Since we have a binary classification problem, what is the best loss function for us?\n",
    "\n",
    "Note: since we specify an activation for the output layer, we don't need to set `from_logits=True`\n"
   ]
  },
  {
   "cell_type": "markdown",
   "id": "e49d98e0",
   "metadata": {},
   "source": [
    "**Binary Cross Entropy** is the best loss fuction to be used for binary classification problem."
   ]
  },
  {
   "cell_type": "code",
   "execution_count": null,
   "id": "cd0d5d1e",
   "metadata": {},
   "outputs": [],
   "source": [
    "# Deining Loss Function\n",
    "loss = keras.losses.BinaryCrossentropy()\n",
    "\n",
    "# Model compilation\n",
    "model.compile(loss = 'binary_crossentropy',\n",
    "              optimizer = optimizer,\n",
    "              metrics=['accuracy']\n",
    "             )"
   ]
  },
  {
   "cell_type": "markdown",
   "id": "083f9948",
   "metadata": {},
   "source": [
    "### Question 2\n",
    "\n",
    "What's the total number of parameters of the model? You can use the `summary` method for that. \n",
    "\n",
    "\n",
    "### Generators and Training\n",
    "\n",
    "For the next two questions, use the following data generator for both train and validation:\n",
    "\n",
    "```python\n",
    "ImageDataGenerator(rescale=1./255)\n",
    "```\n",
    "\n",
    "* We don't need to do any additional pre-processing for the images.\n",
    "* When reading the data from train/val directories, check the `class_mode` parameter. Which value should it be for a binary classification problem?\n",
    "* Use `batch_size=20`\n",
    "\n",
    "For training use `.fit()` with the following params:\n",
    "\n",
    "```python\n",
    "model.fit(\n",
    "    train_generator,\n",
    "    steps_per_epoch=100,\n",
    "    epochs=10,\n",
    "    validation_data=validation_generator,\n",
    "    validation_steps=50\n",
    ")\n",
    "```\n"
   ]
  },
  {
   "cell_type": "code",
   "execution_count": 4,
   "id": "8d59a0c3",
   "metadata": {},
   "outputs": [
    {
     "name": "stdout",
     "output_type": "stream",
     "text": [
      "Model: \"sequential\"\n",
      "_________________________________________________________________\n",
      "Layer (type)                 Output Shape              Param #   \n",
      "=================================================================\n",
      "ConvolutionalLayer (Conv2D)  (None, 148, 148, 32)      896       \n",
      "_________________________________________________________________\n",
      "MaxPooling (MaxPooling2D)    (None, 74, 74, 32)        0         \n",
      "_________________________________________________________________\n",
      "Flatten (Flatten)            (None, 175232)            0         \n",
      "_________________________________________________________________\n",
      "Inner (Dense)                (None, 64)                11214912  \n",
      "_________________________________________________________________\n",
      "Outer (Dense)                (None, 1)                 65        \n",
      "=================================================================\n",
      "Total params: 11,215,873\n",
      "Trainable params: 11,215,873\n",
      "Non-trainable params: 0\n",
      "_________________________________________________________________\n"
     ]
    }
   ],
   "source": [
    "model.summary()"
   ]
  },
  {
   "cell_type": "code",
   "execution_count": 5,
   "id": "439d3f4b",
   "metadata": {},
   "outputs": [],
   "source": [
    "train_datagen = ImageDataGenerator(rescale=1./255)\n",
    "\n",
    "val_datagen = ImageDataGenerator(rescale=1./255)"
   ]
  },
  {
   "cell_type": "code",
   "execution_count": 6,
   "id": "036ed8cf",
   "metadata": {},
   "outputs": [
    {
     "name": "stdout",
     "output_type": "stream",
     "text": [
      "Found 20000 images belonging to 2 classes.\n",
      "Found 5000 images belonging to 2 classes.\n"
     ]
    }
   ],
   "source": [
    "train_generator = train_datagen.flow_from_directory(\n",
    "                                    directory = \"./Datasets/Session#08/train/\",\n",
    "                                    class_mode = \"categorical\",\n",
    "                                    target_size = (150, 150),\n",
    "                                    batch_size = 20\n",
    "                                )\n",
    "\n",
    "validation_generator = val_datagen.flow_from_directory(\n",
    "                                        directory = \"./Datasets/Session#08/validation/\",\n",
    "                                        class_mode = \"categorical\",\n",
    "                                        target_size = (150, 150),\n",
    "                                        batch_size = 20\n",
    "                                    )"
   ]
  },
  {
   "cell_type": "code",
   "execution_count": 7,
   "id": "b2437bde",
   "metadata": {},
   "outputs": [
    {
     "name": "stdout",
     "output_type": "stream",
     "text": [
      "Epoch 1/10\n",
      "100/100 [==============================] - 34s 338ms/step - loss: 0.6935 - accuracy: 0.5000 - val_loss: 0.6933 - val_accuracy: 0.5000\n",
      "Epoch 2/10\n",
      "100/100 [==============================] - 32s 315ms/step - loss: 0.6933 - accuracy: 0.5000 - val_loss: 0.6933 - val_accuracy: 0.5000\n",
      "Epoch 3/10\n",
      "100/100 [==============================] - 40s 398ms/step - loss: 0.6933 - accuracy: 0.5000 - val_loss: 0.6932 - val_accuracy: 0.5000\n",
      "Epoch 4/10\n",
      "100/100 [==============================] - 32s 315ms/step - loss: 0.6932 - accuracy: 0.5000 - val_loss: 0.6932 - val_accuracy: 0.5000\n",
      "Epoch 5/10\n",
      "100/100 [==============================] - 29s 292ms/step - loss: 0.6932 - accuracy: 0.5000 - val_loss: 0.6932 - val_accuracy: 0.5000\n",
      "Epoch 6/10\n",
      "100/100 [==============================] - 28s 282ms/step - loss: 0.6932 - accuracy: 0.5000 - val_loss: 0.6932 - val_accuracy: 0.5000\n",
      "Epoch 7/10\n",
      "100/100 [==============================] - 27s 267ms/step - loss: 0.6932 - accuracy: 0.5000 - val_loss: 0.6932 - val_accuracy: 0.5000\n",
      "Epoch 8/10\n",
      "100/100 [==============================] - 26s 258ms/step - loss: 0.6932 - accuracy: 0.5000 - val_loss: 0.6932 - val_accuracy: 0.5000\n",
      "Epoch 9/10\n",
      "100/100 [==============================] - 25s 253ms/step - loss: 0.6932 - accuracy: 0.5000 - val_loss: 0.6932 - val_accuracy: 0.5000\n",
      "Epoch 10/10\n",
      "100/100 [==============================] - 25s 247ms/step - loss: 0.6932 - accuracy: 0.5000 - val_loss: 0.6932 - val_accuracy: 0.5000\n"
     ]
    }
   ],
   "source": [
    "history = model.fit(\n",
    "                train_generator,\n",
    "                steps_per_epoch=100,\n",
    "                epochs=10,\n",
    "                validation_data=validation_generator,\n",
    "                validation_steps=50\n",
    "            )"
   ]
  },
  {
   "cell_type": "markdown",
   "id": "56acb18f",
   "metadata": {},
   "source": [
    "### Question 3\n",
    "\n",
    "What is the median of training accuracy for this model?\n",
    "\n"
   ]
  },
  {
   "cell_type": "code",
   "execution_count": 8,
   "id": "3640733c",
   "metadata": {},
   "outputs": [
    {
     "data": {
      "text/plain": [
       "0.5"
      ]
     },
     "execution_count": 8,
     "metadata": {},
     "output_type": "execute_result"
    }
   ],
   "source": [
    "hist = pd.DataFrame(history.history)\n",
    "# Median of Training Accuracy\n",
    "hist.accuracy.median()"
   ]
  },
  {
   "cell_type": "markdown",
   "id": "bf226fad",
   "metadata": {},
   "source": [
    "### Question 4\n",
    "\n",
    "What is the standard deviation of training loss for this model?\n",
    "\n",
    "### Data Augmentation\n",
    "\n",
    "For the next two questions, we'll generate more data using data augmentations. \n",
    "\n",
    "Add the following augmentations to your training data generator:\n",
    "\n",
    "* `rotation_range=40,`\n",
    "* `width_shift_range=0.2,`\n",
    "* `height_shift_range=0.2,`\n",
    "* `shear_range=0.2,`\n",
    "* `zoom_range=0.2,`\n",
    "* `horizontal_flip=True,`\n",
    "* `fill_mode='nearest'`\n"
   ]
  },
  {
   "cell_type": "code",
   "execution_count": 9,
   "id": "0c37da0a",
   "metadata": {},
   "outputs": [
    {
     "data": {
      "text/plain": [
       "0.00010113538893088423"
      ]
     },
     "execution_count": 9,
     "metadata": {},
     "output_type": "execute_result"
    }
   ],
   "source": [
    "# Standard Deviation of Training Loss \n",
    "hist.loss.std()"
   ]
  },
  {
   "cell_type": "code",
   "execution_count": 14,
   "id": "336ca5db",
   "metadata": {},
   "outputs": [
    {
     "name": "stdout",
     "output_type": "stream",
     "text": [
      "Found 20000 images belonging to 2 classes.\n",
      "Found 5000 images belonging to 2 classes.\n"
     ]
    }
   ],
   "source": [
    "train_augen= ImageDataGenerator(rescale=1./255,\n",
    "                                rotation_range = 40\n",
    "                                width_shift_range=0.2,\n",
    "                                height_shift_range=0.2,\n",
    "                                shear_range=0.2,\n",
    "                                zoom_range=0.2,\n",
    "                                horizontal_flip=True,\n",
    "                                fill_mode='nearest'\n",
    "                                )\n",
    "\n",
    "train_ds = train_augen.flow_from_directory(\n",
    "                                directory = \"./Datasets/Session#08/train/\",\n",
    "                                class_mode = \"categorical\",\n",
    "                                target_size = (150, 150),\n",
    "                                batch_size = 20\n",
    "                            )\n",
    "\n",
    "val_augen = ImageDataGenerator()\n",
    "\n",
    "val_ds = val_augen.flow_from_directory(\n",
    "                            directory = \"./Datasets/Session#08/validation/\",\n",
    "                            class_mode = \"categorical\",\n",
    "                            target_size = (150, 150),\n",
    "                            batch_size = 20\n",
    "                        )"
   ]
  },
  {
   "cell_type": "markdown",
   "id": "fe6dfd15",
   "metadata": {},
   "source": [
    "### Question 5 \n",
    "\n",
    "Let's train our model for 10 more epochs using the same code as previously.\n",
    "Make sure you don't re-create the model - we want to continue training the model\n",
    "we already started training.\n",
    "\n",
    "What is the mean of validation loss for the model trained with augmentations?\n",
    "\n"
   ]
  },
  {
   "cell_type": "code",
   "execution_count": 11,
   "id": "92d9ac20",
   "metadata": {},
   "outputs": [
    {
     "name": "stdout",
     "output_type": "stream",
     "text": [
      "Epoch 1/10\n",
      "100/100 [==============================] - 33s 332ms/step - loss: 132.0640 - accuracy: 0.5000 - val_loss: 0.6932 - val_accuracy: 0.5000\n",
      "Epoch 2/10\n",
      "100/100 [==============================] - 34s 342ms/step - loss: 0.6950 - accuracy: 0.5000 - val_loss: 0.6931 - val_accuracy: 0.5000\n",
      "Epoch 3/10\n",
      "100/100 [==============================] - 32s 325ms/step - loss: 0.6939 - accuracy: 0.5000 - val_loss: 0.6931 - val_accuracy: 0.5000\n",
      "Epoch 4/10\n",
      "100/100 [==============================] - 34s 338ms/step - loss: 0.6934 - accuracy: 0.5000 - val_loss: 0.6931 - val_accuracy: 0.5000\n",
      "Epoch 5/10\n",
      "100/100 [==============================] - 36s 364ms/step - loss: 0.6935 - accuracy: 0.5000 - val_loss: 0.6931 - val_accuracy: 0.5000\n",
      "Epoch 6/10\n",
      "100/100 [==============================] - 34s 335ms/step - loss: 0.6933 - accuracy: 0.5000 - val_loss: 0.6931 - val_accuracy: 0.5000\n",
      "Epoch 7/10\n",
      "100/100 [==============================] - 35s 354ms/step - loss: 0.6932 - accuracy: 0.5000 - val_loss: 0.6931 - val_accuracy: 0.5000\n",
      "Epoch 8/10\n",
      "100/100 [==============================] - 31s 307ms/step - loss: 0.6932 - accuracy: 0.5000 - val_loss: 0.6931 - val_accuracy: 0.5000\n",
      "Epoch 9/10\n",
      "100/100 [==============================] - 31s 308ms/step - loss: 0.6932 - accuracy: 0.5000 - val_loss: 0.6931 - val_accuracy: 0.5000\n",
      "Epoch 10/10\n",
      "100/100 [==============================] - 31s 310ms/step - loss: 0.6932 - accuracy: 0.5000 - val_loss: 0.6931 - val_accuracy: 0.5000\n"
     ]
    }
   ],
   "source": [
    "hist_ = model.fit(\n",
    "                train_ds,\n",
    "                steps_per_epoch=100,\n",
    "                epochs=10,\n",
    "                validation_data=validation_generator,\n",
    "                validation_steps=50\n",
    "                )"
   ]
  },
  {
   "cell_type": "code",
   "execution_count": 12,
   "id": "e64fa0e8",
   "metadata": {},
   "outputs": [
    {
     "data": {
      "text/plain": [
       "0.6931486964225769"
      ]
     },
     "execution_count": 12,
     "metadata": {},
     "output_type": "execute_result"
    }
   ],
   "source": [
    "hist1 = pd.DataFrame(hist_.history)\n",
    "#  Mean of Validation Loss for the model trained with augmentations\n",
    "hist1.val_loss.mean()"
   ]
  },
  {
   "cell_type": "markdown",
   "id": "510f463a",
   "metadata": {},
   "source": [
    "### Question 6\n",
    "\n",
    "What's the average of validation accuracy for the last 5 epochs (from 6 to 10)\n",
    "for the model trained with augmentations?\n",
    "\n"
   ]
  },
  {
   "cell_type": "code",
   "execution_count": 13,
   "id": "f3a13675",
   "metadata": {},
   "outputs": [
    {
     "data": {
      "text/plain": [
       "0.5"
      ]
     },
     "execution_count": 13,
     "metadata": {},
     "output_type": "execute_result"
    }
   ],
   "source": [
    "#  Average of Validation Accuracy for the last 5 epochs (from 6 to 10) for the model trained with augmentations\n",
    "hist1.val_accuracy[-5:].mean()"
   ]
  }
 ],
 "metadata": {
  "kernelspec": {
   "display_name": "Python 3 (ipykernel)",
   "language": "python",
   "name": "python3"
  },
  "language_info": {
   "codemirror_mode": {
    "name": "ipython",
    "version": 3
   },
   "file_extension": ".py",
   "mimetype": "text/x-python",
   "name": "python",
   "nbconvert_exporter": "python",
   "pygments_lexer": "ipython3",
   "version": "3.8.8"
  }
 },
 "nbformat": 4,
 "nbformat_minor": 5
}
