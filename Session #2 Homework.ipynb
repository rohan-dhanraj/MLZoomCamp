{
 "cells": [
  {
   "cell_type": "markdown",
   "id": "367bfc4c",
   "metadata": {},
   "source": [
    "<html><head>\n",
    "\n",
    "\n",
    "<!-- Load require.js. Delete this if your page already loads require.js -->\n",
    "<script src=\"https://cdnjs.cloudflare.com/ajax/libs/require.js/2.3.4/require.min.js\" integrity=\"sha256-Ae2Vz/4ePdIu6ZyI/5ZGsYnb+m0JlOmKPjt6XZ9JJkA=\" crossorigin=\"anonymous\"></script>\n",
    "<script src=\"https://unpkg.com/@jupyter-widgets/html-manager@*/dist/embed-amd.js\" crossorigin=\"anonymous\"></script>\n",
    "<script type=\"application/vnd.jupyter.widget-state+json\">\n",
    "{\n",
    "    \"version_major\": 2,\n",
    "    \"version_minor\": 0,\n",
    "    \"state\": {}\n",
    "}\n",
    "</script>\n",
    "</head>\n",
    "<body>\n",
    "\n",
    "\n",
    "</body>\n",
    "</html>\n"
   ]
  },
  {
   "cell_type": "markdown",
   "id": "09b0c5e6",
   "metadata": {},
   "source": [
    "### Dataset\n",
    "\n",
    "In this homework, we will use the New York City Airbnb Open Data. You can take it from\n",
    "[Kaggle](https://www.kaggle.com/dgomonov/new-york-city-airbnb-open-data?select=AB_NYC_2019.csv)\n",
    "or download from [GitHub](https://raw.githubusercontent.com/alexeygrigorev/datasets/master/AB_NYC_2019.csv)\n",
    "if you don't want to sign up to Kaggle.\n",
    "\n",
    "The goal of this homework is to create a regression model for prediction apartment prices (column `'price'`).\n",
    "\n",
    "### EDA\n",
    "\n",
    "* Load the data.\n",
    "* Look at the `price` variable. Does it have a long tail? \n",
    "\n",
    "### Features\n",
    "\n",
    "For the rest of the homework, you'll need to use only these columns:\n",
    "\n",
    "* `'latitude'`,\n",
    "* `'longitude'`,\n",
    "* `'price'`,\n",
    "* `'minimum_nights'`,\n",
    "* `'number_of_reviews'`,\n",
    "* `'reviews_per_month'`,\n",
    "* `'calculated_host_listings_count'`,\n",
    "* `'availability_365'`\n",
    "\n",
    "Select only them."
   ]
  },
  {
   "cell_type": "code",
   "execution_count": 25,
   "id": "4fe8a664",
   "metadata": {},
   "outputs": [],
   "source": [
    "# Importing Libraries\n",
    "\n",
    "import numpy as np\n",
    "import pandas as pd\n",
    "import seaborn as sns\n",
    "import matplotlib.pyplot as plt\n",
    "%matplotlib inline\n",
    "\n",
    "import dtale"
   ]
  },
  {
   "cell_type": "markdown",
   "id": "5ec45727",
   "metadata": {},
   "source": [
    "Downloading dataset using:  \n",
    "`!python -m wget $<URL> -o <Filename.extension>`"
   ]
  },
  {
   "cell_type": "raw",
   "id": "7400973e",
   "metadata": {},
   "source": [
    "data = 'https://raw.githubusercontent.com/alexeygrigorev/\\\n",
    "datasets/master/AB_NYC_2019.csv'\n",
    "\n",
    "!python -m wget $data -o AB_NYC_2019.csv"
   ]
  },
  {
   "cell_type": "code",
   "execution_count": 3,
   "id": "2c162935",
   "metadata": {
    "scrolled": false
   },
   "outputs": [
    {
     "name": "stdout",
     "output_type": "stream",
     "text": [
      "(48895, 16)\n",
      "0        149\n",
      "1        225\n",
      "2        150\n",
      "3         89\n",
      "4         80\n",
      "        ... \n",
      "48890     70\n",
      "48891     40\n",
      "48892    115\n",
      "48893     55\n",
      "48894     90\n",
      "Name: price, Length: 48895, dtype: int64\n"
     ]
    },
    {
     "data": {
      "text/html": [
       "<div>\n",
       "<style scoped>\n",
       "    .dataframe tbody tr th:only-of-type {\n",
       "        vertical-align: middle;\n",
       "    }\n",
       "\n",
       "    .dataframe tbody tr th {\n",
       "        vertical-align: top;\n",
       "    }\n",
       "\n",
       "    .dataframe thead th {\n",
       "        text-align: right;\n",
       "    }\n",
       "</style>\n",
       "<table border=\"1\" class=\"dataframe\">\n",
       "  <thead>\n",
       "    <tr style=\"text-align: right;\">\n",
       "      <th></th>\n",
       "      <th>id</th>\n",
       "      <th>name</th>\n",
       "      <th>host_id</th>\n",
       "      <th>host_name</th>\n",
       "      <th>neighbourhood_group</th>\n",
       "      <th>neighbourhood</th>\n",
       "      <th>latitude</th>\n",
       "      <th>longitude</th>\n",
       "      <th>room_type</th>\n",
       "      <th>price</th>\n",
       "      <th>minimum_nights</th>\n",
       "      <th>number_of_reviews</th>\n",
       "      <th>last_review</th>\n",
       "      <th>reviews_per_month</th>\n",
       "      <th>calculated_host_listings_count</th>\n",
       "      <th>availability_365</th>\n",
       "    </tr>\n",
       "  </thead>\n",
       "  <tbody>\n",
       "    <tr>\n",
       "      <th>0</th>\n",
       "      <td>2539</td>\n",
       "      <td>Clean &amp; quiet apt home by the park</td>\n",
       "      <td>2787</td>\n",
       "      <td>John</td>\n",
       "      <td>Brooklyn</td>\n",
       "      <td>Kensington</td>\n",
       "      <td>40.64749</td>\n",
       "      <td>-73.97237</td>\n",
       "      <td>Private room</td>\n",
       "      <td>149</td>\n",
       "      <td>1</td>\n",
       "      <td>9</td>\n",
       "      <td>2018-10-19</td>\n",
       "      <td>0.21</td>\n",
       "      <td>6</td>\n",
       "      <td>365</td>\n",
       "    </tr>\n",
       "    <tr>\n",
       "      <th>1</th>\n",
       "      <td>2595</td>\n",
       "      <td>Skylit Midtown Castle</td>\n",
       "      <td>2845</td>\n",
       "      <td>Jennifer</td>\n",
       "      <td>Manhattan</td>\n",
       "      <td>Midtown</td>\n",
       "      <td>40.75362</td>\n",
       "      <td>-73.98377</td>\n",
       "      <td>Entire home/apt</td>\n",
       "      <td>225</td>\n",
       "      <td>1</td>\n",
       "      <td>45</td>\n",
       "      <td>2019-05-21</td>\n",
       "      <td>0.38</td>\n",
       "      <td>2</td>\n",
       "      <td>355</td>\n",
       "    </tr>\n",
       "    <tr>\n",
       "      <th>2</th>\n",
       "      <td>3647</td>\n",
       "      <td>THE VILLAGE OF HARLEM....NEW YORK !</td>\n",
       "      <td>4632</td>\n",
       "      <td>Elisabeth</td>\n",
       "      <td>Manhattan</td>\n",
       "      <td>Harlem</td>\n",
       "      <td>40.80902</td>\n",
       "      <td>-73.94190</td>\n",
       "      <td>Private room</td>\n",
       "      <td>150</td>\n",
       "      <td>3</td>\n",
       "      <td>0</td>\n",
       "      <td>NaN</td>\n",
       "      <td>NaN</td>\n",
       "      <td>1</td>\n",
       "      <td>365</td>\n",
       "    </tr>\n",
       "    <tr>\n",
       "      <th>3</th>\n",
       "      <td>3831</td>\n",
       "      <td>Cozy Entire Floor of Brownstone</td>\n",
       "      <td>4869</td>\n",
       "      <td>LisaRoxanne</td>\n",
       "      <td>Brooklyn</td>\n",
       "      <td>Clinton Hill</td>\n",
       "      <td>40.68514</td>\n",
       "      <td>-73.95976</td>\n",
       "      <td>Entire home/apt</td>\n",
       "      <td>89</td>\n",
       "      <td>1</td>\n",
       "      <td>270</td>\n",
       "      <td>2019-07-05</td>\n",
       "      <td>4.64</td>\n",
       "      <td>1</td>\n",
       "      <td>194</td>\n",
       "    </tr>\n",
       "    <tr>\n",
       "      <th>4</th>\n",
       "      <td>5022</td>\n",
       "      <td>Entire Apt: Spacious Studio/Loft by central park</td>\n",
       "      <td>7192</td>\n",
       "      <td>Laura</td>\n",
       "      <td>Manhattan</td>\n",
       "      <td>East Harlem</td>\n",
       "      <td>40.79851</td>\n",
       "      <td>-73.94399</td>\n",
       "      <td>Entire home/apt</td>\n",
       "      <td>80</td>\n",
       "      <td>10</td>\n",
       "      <td>9</td>\n",
       "      <td>2018-11-19</td>\n",
       "      <td>0.10</td>\n",
       "      <td>1</td>\n",
       "      <td>0</td>\n",
       "    </tr>\n",
       "  </tbody>\n",
       "</table>\n",
       "</div>"
      ],
      "text/plain": [
       "     id                                              name  host_id  \\\n",
       "0  2539                Clean & quiet apt home by the park     2787   \n",
       "1  2595                             Skylit Midtown Castle     2845   \n",
       "2  3647               THE VILLAGE OF HARLEM....NEW YORK !     4632   \n",
       "3  3831                   Cozy Entire Floor of Brownstone     4869   \n",
       "4  5022  Entire Apt: Spacious Studio/Loft by central park     7192   \n",
       "\n",
       "     host_name neighbourhood_group neighbourhood  latitude  longitude  \\\n",
       "0         John            Brooklyn    Kensington  40.64749  -73.97237   \n",
       "1     Jennifer           Manhattan       Midtown  40.75362  -73.98377   \n",
       "2    Elisabeth           Manhattan        Harlem  40.80902  -73.94190   \n",
       "3  LisaRoxanne            Brooklyn  Clinton Hill  40.68514  -73.95976   \n",
       "4        Laura           Manhattan   East Harlem  40.79851  -73.94399   \n",
       "\n",
       "         room_type  price  minimum_nights  number_of_reviews last_review  \\\n",
       "0     Private room    149               1                  9  2018-10-19   \n",
       "1  Entire home/apt    225               1                 45  2019-05-21   \n",
       "2     Private room    150               3                  0         NaN   \n",
       "3  Entire home/apt     89               1                270  2019-07-05   \n",
       "4  Entire home/apt     80              10                  9  2018-11-19   \n",
       "\n",
       "   reviews_per_month  calculated_host_listings_count  availability_365  \n",
       "0               0.21                               6               365  \n",
       "1               0.38                               2               355  \n",
       "2                NaN                               1               365  \n",
       "3               4.64                               1               194  \n",
       "4               0.10                               1                 0  "
      ]
     },
     "metadata": {},
     "output_type": "display_data"
    }
   ],
   "source": [
    "df = pd.read_csv('AB_NYC_2019.csv')\n",
    "print(df.shape)\n",
    "print(df.price)\n",
    "display(df.head())"
   ]
  },
  {
   "cell_type": "code",
   "execution_count": 4,
   "id": "6d86b63c",
   "metadata": {},
   "outputs": [
    {
     "data": {
      "text/html": [
       "<div>\n",
       "<style scoped>\n",
       "    .dataframe tbody tr th:only-of-type {\n",
       "        vertical-align: middle;\n",
       "    }\n",
       "\n",
       "    .dataframe tbody tr th {\n",
       "        vertical-align: top;\n",
       "    }\n",
       "\n",
       "    .dataframe thead th {\n",
       "        text-align: right;\n",
       "    }\n",
       "</style>\n",
       "<table border=\"1\" class=\"dataframe\">\n",
       "  <thead>\n",
       "    <tr style=\"text-align: right;\">\n",
       "      <th></th>\n",
       "      <th>id</th>\n",
       "      <th>name</th>\n",
       "      <th>host_id</th>\n",
       "      <th>host_name</th>\n",
       "      <th>neighbourhood_group</th>\n",
       "      <th>neighbourhood</th>\n",
       "      <th>latitude</th>\n",
       "      <th>longitude</th>\n",
       "      <th>room_type</th>\n",
       "      <th>price</th>\n",
       "      <th>minimum_nights</th>\n",
       "      <th>number_of_reviews</th>\n",
       "      <th>last_review</th>\n",
       "      <th>reviews_per_month</th>\n",
       "      <th>calculated_host_listings_count</th>\n",
       "      <th>availability_365</th>\n",
       "    </tr>\n",
       "  </thead>\n",
       "  <tbody>\n",
       "    <tr>\n",
       "      <th>0</th>\n",
       "      <td>2539</td>\n",
       "      <td>clean_&amp;_quiet_apt_home_by_the_park</td>\n",
       "      <td>2787</td>\n",
       "      <td>john</td>\n",
       "      <td>brooklyn</td>\n",
       "      <td>kensington</td>\n",
       "      <td>40.64749</td>\n",
       "      <td>-73.97237</td>\n",
       "      <td>private_room</td>\n",
       "      <td>149</td>\n",
       "      <td>1</td>\n",
       "      <td>9</td>\n",
       "      <td>2018-10-19</td>\n",
       "      <td>0.21</td>\n",
       "      <td>6</td>\n",
       "      <td>365</td>\n",
       "    </tr>\n",
       "    <tr>\n",
       "      <th>1</th>\n",
       "      <td>2595</td>\n",
       "      <td>skylit_midtown_castle</td>\n",
       "      <td>2845</td>\n",
       "      <td>jennifer</td>\n",
       "      <td>manhattan</td>\n",
       "      <td>midtown</td>\n",
       "      <td>40.75362</td>\n",
       "      <td>-73.98377</td>\n",
       "      <td>entire_home/apt</td>\n",
       "      <td>225</td>\n",
       "      <td>1</td>\n",
       "      <td>45</td>\n",
       "      <td>2019-05-21</td>\n",
       "      <td>0.38</td>\n",
       "      <td>2</td>\n",
       "      <td>355</td>\n",
       "    </tr>\n",
       "    <tr>\n",
       "      <th>2</th>\n",
       "      <td>3647</td>\n",
       "      <td>the_village_of_harlem....new_york_!</td>\n",
       "      <td>4632</td>\n",
       "      <td>elisabeth</td>\n",
       "      <td>manhattan</td>\n",
       "      <td>harlem</td>\n",
       "      <td>40.80902</td>\n",
       "      <td>-73.94190</td>\n",
       "      <td>private_room</td>\n",
       "      <td>150</td>\n",
       "      <td>3</td>\n",
       "      <td>0</td>\n",
       "      <td>NaN</td>\n",
       "      <td>NaN</td>\n",
       "      <td>1</td>\n",
       "      <td>365</td>\n",
       "    </tr>\n",
       "    <tr>\n",
       "      <th>3</th>\n",
       "      <td>3831</td>\n",
       "      <td>cozy_entire_floor_of_brownstone</td>\n",
       "      <td>4869</td>\n",
       "      <td>lisaroxanne</td>\n",
       "      <td>brooklyn</td>\n",
       "      <td>clinton_hill</td>\n",
       "      <td>40.68514</td>\n",
       "      <td>-73.95976</td>\n",
       "      <td>entire_home/apt</td>\n",
       "      <td>89</td>\n",
       "      <td>1</td>\n",
       "      <td>270</td>\n",
       "      <td>2019-07-05</td>\n",
       "      <td>4.64</td>\n",
       "      <td>1</td>\n",
       "      <td>194</td>\n",
       "    </tr>\n",
       "    <tr>\n",
       "      <th>4</th>\n",
       "      <td>5022</td>\n",
       "      <td>entire_apt:_spacious_studio/loft_by_central_park</td>\n",
       "      <td>7192</td>\n",
       "      <td>laura</td>\n",
       "      <td>manhattan</td>\n",
       "      <td>east_harlem</td>\n",
       "      <td>40.79851</td>\n",
       "      <td>-73.94399</td>\n",
       "      <td>entire_home/apt</td>\n",
       "      <td>80</td>\n",
       "      <td>10</td>\n",
       "      <td>9</td>\n",
       "      <td>2018-11-19</td>\n",
       "      <td>0.10</td>\n",
       "      <td>1</td>\n",
       "      <td>0</td>\n",
       "    </tr>\n",
       "  </tbody>\n",
       "</table>\n",
       "</div>"
      ],
      "text/plain": [
       "     id                                              name  host_id  \\\n",
       "0  2539                clean_&_quiet_apt_home_by_the_park     2787   \n",
       "1  2595                             skylit_midtown_castle     2845   \n",
       "2  3647               the_village_of_harlem....new_york_!     4632   \n",
       "3  3831                   cozy_entire_floor_of_brownstone     4869   \n",
       "4  5022  entire_apt:_spacious_studio/loft_by_central_park     7192   \n",
       "\n",
       "     host_name neighbourhood_group neighbourhood  latitude  longitude  \\\n",
       "0         john            brooklyn    kensington  40.64749  -73.97237   \n",
       "1     jennifer           manhattan       midtown  40.75362  -73.98377   \n",
       "2    elisabeth           manhattan        harlem  40.80902  -73.94190   \n",
       "3  lisaroxanne            brooklyn  clinton_hill  40.68514  -73.95976   \n",
       "4        laura           manhattan   east_harlem  40.79851  -73.94399   \n",
       "\n",
       "         room_type  price  minimum_nights  number_of_reviews last_review  \\\n",
       "0     private_room    149               1                  9  2018-10-19   \n",
       "1  entire_home/apt    225               1                 45  2019-05-21   \n",
       "2     private_room    150               3                  0         NaN   \n",
       "3  entire_home/apt     89               1                270  2019-07-05   \n",
       "4  entire_home/apt     80              10                  9  2018-11-19   \n",
       "\n",
       "   reviews_per_month  calculated_host_listings_count  availability_365  \n",
       "0               0.21                               6               365  \n",
       "1               0.38                               2               355  \n",
       "2                NaN                               1               365  \n",
       "3               4.64                               1               194  \n",
       "4               0.10                               1                 0  "
      ]
     },
     "metadata": {},
     "output_type": "display_data"
    }
   ],
   "source": [
    "cat_cols = list(df.dtypes[df.dtypes == 'O'].index)\n",
    "\n",
    "for col in cat_cols:\n",
    "    df[col] = df[col].str.lower().str.replace(' ', '_')\n",
    "    \n",
    "display(df.head())"
   ]
  },
  {
   "cell_type": "code",
   "execution_count": 60,
   "id": "01aee443",
   "metadata": {
    "scrolled": true
   },
   "outputs": [
    {
     "name": "stderr",
     "output_type": "stream",
     "text": [
      "C:\\Users\\Rohan\\anaconda3\\lib\\site-packages\\dtale\\utils.py:502: FutureWarning:\n",
      "\n",
      "Boolean inputs to the `inclusive` argument are deprecated infavour of `both` or `neither`.\n",
      "\n",
      "C:\\Users\\Rohan\\anaconda3\\lib\\site-packages\\dtale\\utils.py:504: FutureWarning:\n",
      "\n",
      "Boolean inputs to the `inclusive` argument are deprecated infavour of `both` or `neither`.\n",
      "\n"
     ]
    },
    {
     "data": {
      "text/html": [
       "\n",
       "        <iframe\n",
       "            width=\"100%\"\n",
       "            height=\"475\"\n",
       "            src=\"http://RohanPC:40000/dtale/iframe/3\"\n",
       "            frameborder=\"0\"\n",
       "            allowfullscreen\n",
       "        ></iframe>\n",
       "        "
      ],
      "text/plain": [
       "<IPython.lib.display.IFrame at 0x12feca7d430>"
      ]
     },
     "metadata": {},
     "output_type": "display_data"
    },
    {
     "data": {
      "text/plain": []
     },
     "execution_count": 60,
     "metadata": {},
     "output_type": "execute_result"
    }
   ],
   "source": [
    "# Using D-Tale for Auto EDA\n",
    "\n",
    "dtale.show(df)"
   ]
  },
  {
   "cell_type": "code",
   "execution_count": 5,
   "id": "76d12378",
   "metadata": {},
   "outputs": [
    {
     "name": "stdout",
     "output_type": "stream",
     "text": [
      "(48895, 8)\n"
     ]
    },
    {
     "data": {
      "text/html": [
       "<div>\n",
       "<style scoped>\n",
       "    .dataframe tbody tr th:only-of-type {\n",
       "        vertical-align: middle;\n",
       "    }\n",
       "\n",
       "    .dataframe tbody tr th {\n",
       "        vertical-align: top;\n",
       "    }\n",
       "\n",
       "    .dataframe thead th {\n",
       "        text-align: right;\n",
       "    }\n",
       "</style>\n",
       "<table border=\"1\" class=\"dataframe\">\n",
       "  <thead>\n",
       "    <tr style=\"text-align: right;\">\n",
       "      <th></th>\n",
       "      <th>latitude</th>\n",
       "      <th>longitude</th>\n",
       "      <th>price</th>\n",
       "      <th>minimum_nights</th>\n",
       "      <th>number_of_reviews</th>\n",
       "      <th>reviews_per_month</th>\n",
       "      <th>calculated_host_listings_count</th>\n",
       "      <th>availability_365</th>\n",
       "    </tr>\n",
       "  </thead>\n",
       "  <tbody>\n",
       "    <tr>\n",
       "      <th>0</th>\n",
       "      <td>40.64749</td>\n",
       "      <td>-73.97237</td>\n",
       "      <td>149</td>\n",
       "      <td>1</td>\n",
       "      <td>9</td>\n",
       "      <td>0.21</td>\n",
       "      <td>6</td>\n",
       "      <td>365</td>\n",
       "    </tr>\n",
       "    <tr>\n",
       "      <th>1</th>\n",
       "      <td>40.75362</td>\n",
       "      <td>-73.98377</td>\n",
       "      <td>225</td>\n",
       "      <td>1</td>\n",
       "      <td>45</td>\n",
       "      <td>0.38</td>\n",
       "      <td>2</td>\n",
       "      <td>355</td>\n",
       "    </tr>\n",
       "    <tr>\n",
       "      <th>2</th>\n",
       "      <td>40.80902</td>\n",
       "      <td>-73.94190</td>\n",
       "      <td>150</td>\n",
       "      <td>3</td>\n",
       "      <td>0</td>\n",
       "      <td>NaN</td>\n",
       "      <td>1</td>\n",
       "      <td>365</td>\n",
       "    </tr>\n",
       "    <tr>\n",
       "      <th>3</th>\n",
       "      <td>40.68514</td>\n",
       "      <td>-73.95976</td>\n",
       "      <td>89</td>\n",
       "      <td>1</td>\n",
       "      <td>270</td>\n",
       "      <td>4.64</td>\n",
       "      <td>1</td>\n",
       "      <td>194</td>\n",
       "    </tr>\n",
       "    <tr>\n",
       "      <th>4</th>\n",
       "      <td>40.79851</td>\n",
       "      <td>-73.94399</td>\n",
       "      <td>80</td>\n",
       "      <td>10</td>\n",
       "      <td>9</td>\n",
       "      <td>0.10</td>\n",
       "      <td>1</td>\n",
       "      <td>0</td>\n",
       "    </tr>\n",
       "    <tr>\n",
       "      <th>5</th>\n",
       "      <td>40.74767</td>\n",
       "      <td>-73.97500</td>\n",
       "      <td>200</td>\n",
       "      <td>3</td>\n",
       "      <td>74</td>\n",
       "      <td>0.59</td>\n",
       "      <td>1</td>\n",
       "      <td>129</td>\n",
       "    </tr>\n",
       "    <tr>\n",
       "      <th>6</th>\n",
       "      <td>40.68688</td>\n",
       "      <td>-73.95596</td>\n",
       "      <td>60</td>\n",
       "      <td>45</td>\n",
       "      <td>49</td>\n",
       "      <td>0.40</td>\n",
       "      <td>1</td>\n",
       "      <td>0</td>\n",
       "    </tr>\n",
       "    <tr>\n",
       "      <th>7</th>\n",
       "      <td>40.76489</td>\n",
       "      <td>-73.98493</td>\n",
       "      <td>79</td>\n",
       "      <td>2</td>\n",
       "      <td>430</td>\n",
       "      <td>3.47</td>\n",
       "      <td>1</td>\n",
       "      <td>220</td>\n",
       "    </tr>\n",
       "    <tr>\n",
       "      <th>8</th>\n",
       "      <td>40.80178</td>\n",
       "      <td>-73.96723</td>\n",
       "      <td>79</td>\n",
       "      <td>2</td>\n",
       "      <td>118</td>\n",
       "      <td>0.99</td>\n",
       "      <td>1</td>\n",
       "      <td>0</td>\n",
       "    </tr>\n",
       "    <tr>\n",
       "      <th>9</th>\n",
       "      <td>40.71344</td>\n",
       "      <td>-73.99037</td>\n",
       "      <td>150</td>\n",
       "      <td>1</td>\n",
       "      <td>160</td>\n",
       "      <td>1.33</td>\n",
       "      <td>4</td>\n",
       "      <td>188</td>\n",
       "    </tr>\n",
       "  </tbody>\n",
       "</table>\n",
       "</div>"
      ],
      "text/plain": [
       "   latitude  longitude  price  minimum_nights  number_of_reviews  \\\n",
       "0  40.64749  -73.97237    149               1                  9   \n",
       "1  40.75362  -73.98377    225               1                 45   \n",
       "2  40.80902  -73.94190    150               3                  0   \n",
       "3  40.68514  -73.95976     89               1                270   \n",
       "4  40.79851  -73.94399     80              10                  9   \n",
       "5  40.74767  -73.97500    200               3                 74   \n",
       "6  40.68688  -73.95596     60              45                 49   \n",
       "7  40.76489  -73.98493     79               2                430   \n",
       "8  40.80178  -73.96723     79               2                118   \n",
       "9  40.71344  -73.99037    150               1                160   \n",
       "\n",
       "   reviews_per_month  calculated_host_listings_count  availability_365  \n",
       "0               0.21                               6               365  \n",
       "1               0.38                               2               355  \n",
       "2                NaN                               1               365  \n",
       "3               4.64                               1               194  \n",
       "4               0.10                               1                 0  \n",
       "5               0.59                               1               129  \n",
       "6               0.40                               1                 0  \n",
       "7               3.47                               1               220  \n",
       "8               0.99                               1                 0  \n",
       "9               1.33                               4               188  "
      ]
     },
     "metadata": {},
     "output_type": "display_data"
    }
   ],
   "source": [
    "df = df[[\n",
    "    'latitude',\n",
    "    'longitude',\n",
    "    'price',\n",
    "    'minimum_nights',\n",
    "    'number_of_reviews',\n",
    "    'reviews_per_month',\n",
    "    'calculated_host_listings_count',\n",
    "    'availability_365'\n",
    "]]\n",
    "print(df.shape)\n",
    "display(df.head(10))"
   ]
  },
  {
   "cell_type": "markdown",
   "id": "3ee1a78b",
   "metadata": {},
   "source": [
    "### Question 1\n",
    "\n",
    "Find a feature with missing values. How many missing values does it have?"
   ]
  },
  {
   "cell_type": "code",
   "execution_count": 6,
   "id": "cc1eb976",
   "metadata": {
    "scrolled": true
   },
   "outputs": [
    {
     "name": "stdout",
     "output_type": "stream",
     "text": [
      "reviews_per_month: 10052: 20.56%\n"
     ]
    }
   ],
   "source": [
    "missings = [f'{x}: {df[x].isna().sum()}: {round(df[x].isna().sum()/df.shape[0] * 100, 2)}%' for x in df.columns if df[x].isna().sum() > 0]\n",
    "print('\\n'.join(missings))"
   ]
  },
  {
   "cell_type": "markdown",
   "id": "95b8f333",
   "metadata": {},
   "source": [
    "### Question 2\n",
    "\n",
    "What's the median (50% percentile) for variable 'minimum_nights'?"
   ]
  },
  {
   "cell_type": "code",
   "execution_count": 7,
   "id": "88de9589",
   "metadata": {},
   "outputs": [
    {
     "data": {
      "text/plain": [
       "3.0"
      ]
     },
     "execution_count": 7,
     "metadata": {},
     "output_type": "execute_result"
    }
   ],
   "source": [
    "df.minimum_nights.median()"
   ]
  },
  {
   "cell_type": "markdown",
   "id": "db020ddd",
   "metadata": {},
   "source": [
    "### Split the data (Manually)\n",
    "\n",
    "* Shuffle the initial dataset, use seed `42`.\n",
    "* Split your data in train/val/test sets, with 60%/20%/20% distribution.\n",
    "* Make sure that the target value ('price') is not in your dataframe.\n",
    "* Apply the log transformation to the price variable using the `np.log1p()` function.\n"
   ]
  },
  {
   "cell_type": "code",
   "execution_count": 8,
   "id": "fe0f8de0",
   "metadata": {},
   "outputs": [],
   "source": [
    "def train_val_test_split(df, pred_col, val_size=None, test_size=None, train_size=None, random_state=None, shuffle=True):\n",
    "   \n",
    "    if train_size == None and val_size == None and test_size == None:\n",
    "        val_size, test_size = 0.2, 0,2\n",
    "    elif train_size == None and val_size == None and test_size != None:\n",
    "        val_size, test_size = 0.2, test_size\n",
    "    elif train_size == None and val_size != None and test_size == None:\n",
    "        val_size, test_size = val_size, 0.2\n",
    "    elif train_size == None and val_size != None and test_size != None:\n",
    "        val_size, test_size = val_size, test_size\n",
    "    elif train_size != None and val_size == None and test_size == None:\n",
    "        val_size, test_size = (1 - train_size)/2, (1 - train_size)/2\n",
    "    elif train_size != None and val_size == None and test_size != None:\n",
    "        val_size, test_size = train_size - test_size, test_size\n",
    "    elif train_size != None and val_size != None and test_size == None:\n",
    "        val_size, test_size = val_size, train_size - val_size\n",
    "    elif train_size != None and val_size != None and test_size != None:\n",
    "        val_size, test_size = val_size, test_size\n",
    "        \n",
    "    n = len(df)\n",
    "\n",
    "    n_val = int(n * val_size)\n",
    "    n_test = int(n * test_size)\n",
    "    n_train = n - n_val - n_test\n",
    "\n",
    "    idx = np.arange(n)\n",
    "    \n",
    "    if random_state == None:\n",
    "        random_state = 0\n",
    "    \n",
    "    np.random.seed(random_state)\n",
    "        \n",
    "    if shuffle != False:\n",
    "        np.random.shuffle(idx)\n",
    "\n",
    "    df_train = df.iloc[idx[:n_train]]\n",
    "    df_val = df.iloc[idx[n_train: n_train + n_val]]\n",
    "    df_test = df.iloc[idx[n_train + n_val:]]\n",
    "\n",
    "    X_train = df_train.drop(pred_col, axis = 1)\n",
    "    y_train = df_train[pred_col]\n",
    "    X_val = df_val.drop(pred_col, axis = 1)\n",
    "    y_val = df_val[pred_col]\n",
    "    X_test = df_test.drop(pred_col, axis = 1)\n",
    "    y_test = df_test[pred_col]\n",
    "    \n",
    "    return X_train, y_train, X_val, y_val, X_test, y_test"
   ]
  },
  {
   "cell_type": "code",
   "execution_count": 9,
   "id": "621dfc2f",
   "metadata": {},
   "outputs": [],
   "source": [
    "X_train, y_train, X_val, y_val, X_test, y_test = train_val_test_split(\n",
    "    df = df,\n",
    "    pred_col = 'price',\n",
    "    train_size = .6,\n",
    "    test_size = .2,\n",
    "    val_size = .2,\n",
    "    shuffle = True,\n",
    "    random_state = 42\n",
    ")"
   ]
  },
  {
   "cell_type": "code",
   "execution_count": 10,
   "id": "ef7fb33d",
   "metadata": {},
   "outputs": [
    {
     "data": {
      "text/html": [
       "<div>\n",
       "<style scoped>\n",
       "    .dataframe tbody tr th:only-of-type {\n",
       "        vertical-align: middle;\n",
       "    }\n",
       "\n",
       "    .dataframe tbody tr th {\n",
       "        vertical-align: top;\n",
       "    }\n",
       "\n",
       "    .dataframe thead th {\n",
       "        text-align: right;\n",
       "    }\n",
       "</style>\n",
       "<table border=\"1\" class=\"dataframe\">\n",
       "  <thead>\n",
       "    <tr style=\"text-align: right;\">\n",
       "      <th></th>\n",
       "      <th>latitude</th>\n",
       "      <th>longitude</th>\n",
       "      <th>minimum_nights</th>\n",
       "      <th>number_of_reviews</th>\n",
       "      <th>reviews_per_month</th>\n",
       "      <th>calculated_host_listings_count</th>\n",
       "      <th>availability_365</th>\n",
       "    </tr>\n",
       "  </thead>\n",
       "  <tbody>\n",
       "    <tr>\n",
       "      <th>879</th>\n",
       "      <td>40.64354</td>\n",
       "      <td>-73.97777</td>\n",
       "      <td>3</td>\n",
       "      <td>62</td>\n",
       "      <td>0.71</td>\n",
       "      <td>1</td>\n",
       "      <td>189</td>\n",
       "    </tr>\n",
       "    <tr>\n",
       "      <th>44383</th>\n",
       "      <td>40.70666</td>\n",
       "      <td>-73.90779</td>\n",
       "      <td>21</td>\n",
       "      <td>0</td>\n",
       "      <td>NaN</td>\n",
       "      <td>1</td>\n",
       "      <td>73</td>\n",
       "    </tr>\n",
       "    <tr>\n",
       "      <th>15394</th>\n",
       "      <td>40.76116</td>\n",
       "      <td>-73.99016</td>\n",
       "      <td>2</td>\n",
       "      <td>17</td>\n",
       "      <td>0.43</td>\n",
       "      <td>1</td>\n",
       "      <td>0</td>\n",
       "    </tr>\n",
       "    <tr>\n",
       "      <th>43230</th>\n",
       "      <td>40.70763</td>\n",
       "      <td>-74.01050</td>\n",
       "      <td>2</td>\n",
       "      <td>5</td>\n",
       "      <td>1.88</td>\n",
       "      <td>327</td>\n",
       "      <td>272</td>\n",
       "    </tr>\n",
       "    <tr>\n",
       "      <th>16332</th>\n",
       "      <td>40.79658</td>\n",
       "      <td>-73.93287</td>\n",
       "      <td>2</td>\n",
       "      <td>30</td>\n",
       "      <td>0.80</td>\n",
       "      <td>1</td>\n",
       "      <td>30</td>\n",
       "    </tr>\n",
       "  </tbody>\n",
       "</table>\n",
       "</div>"
      ],
      "text/plain": [
       "       latitude  longitude  minimum_nights  number_of_reviews  \\\n",
       "879    40.64354  -73.97777               3                 62   \n",
       "44383  40.70666  -73.90779              21                  0   \n",
       "15394  40.76116  -73.99016               2                 17   \n",
       "43230  40.70763  -74.01050               2                  5   \n",
       "16332  40.79658  -73.93287               2                 30   \n",
       "\n",
       "       reviews_per_month  calculated_host_listings_count  availability_365  \n",
       "879                 0.71                               1               189  \n",
       "44383                NaN                               1                73  \n",
       "15394               0.43                               1                 0  \n",
       "43230               1.88                             327               272  \n",
       "16332               0.80                               1                30  "
      ]
     },
     "execution_count": 10,
     "metadata": {},
     "output_type": "execute_result"
    }
   ],
   "source": [
    "X_train.head()"
   ]
  },
  {
   "cell_type": "code",
   "execution_count": 11,
   "id": "e1777062",
   "metadata": {},
   "outputs": [
    {
     "data": {
      "text/plain": [
       "879       89\n",
       "44383     30\n",
       "15394    120\n",
       "43230    470\n",
       "16332    199\n",
       "Name: price, dtype: int64"
      ]
     },
     "execution_count": 11,
     "metadata": {},
     "output_type": "execute_result"
    }
   ],
   "source": [
    "y_train.head()"
   ]
  },
  {
   "cell_type": "code",
   "execution_count": 12,
   "id": "9ca76e28",
   "metadata": {},
   "outputs": [
    {
     "data": {
      "text/plain": [
       "True"
      ]
     },
     "execution_count": 12,
     "metadata": {},
     "output_type": "execute_result"
    }
   ],
   "source": [
    "len(X_train) + len(X_val) + len(X_test) == len(df)"
   ]
  },
  {
   "cell_type": "code",
   "execution_count": 13,
   "id": "1f47a0f7",
   "metadata": {},
   "outputs": [],
   "source": [
    "y_train = np.log1p(y_train)\n",
    "y_val = np.log1p(y_val)\n",
    "y_test = np.log1p(y_test)"
   ]
  },
  {
   "cell_type": "code",
   "execution_count": 14,
   "id": "09e8b626",
   "metadata": {},
   "outputs": [
    {
     "data": {
      "text/plain": [
       "879      4.499810\n",
       "44383    3.433987\n",
       "15394    4.795791\n",
       "43230    6.154858\n",
       "16332    5.298317\n",
       "Name: price, dtype: float64"
      ]
     },
     "execution_count": 14,
     "metadata": {},
     "output_type": "execute_result"
    }
   ],
   "source": [
    "y_train.head()"
   ]
  },
  {
   "cell_type": "code",
   "execution_count": null,
   "id": "7eb332b6",
   "metadata": {},
   "outputs": [],
   "source": []
  },
  {
   "cell_type": "code",
   "execution_count": null,
   "id": "cc3cc332",
   "metadata": {},
   "outputs": [],
   "source": []
  },
  {
   "cell_type": "code",
   "execution_count": null,
   "id": "d9537e18",
   "metadata": {},
   "outputs": [],
   "source": []
  },
  {
   "cell_type": "markdown",
   "id": "ad4dd4fa",
   "metadata": {},
   "source": [
    "### Question 3\n",
    "\n",
    "* We need to deal with missing values for the column from Question #1.\n",
    "* We have two options: fill it with 0 or with the mean of this variable.\n",
    "* Try both options. For each, train a linear regression model without regularization using the code from the lesssons.\n",
    "* For computing the mean, use the training only!\n",
    "* Compare the RMSE of each option.\n",
    "* Round the RMSE scores to 2 decimal digits using `round(score, 2)`\n",
    "* Which option gives better RMSE?"
   ]
  },
  {
   "cell_type": "code",
   "execution_count": 15,
   "id": "0632419d",
   "metadata": {},
   "outputs": [],
   "source": [
    "def missing_fill(num):\n",
    "    Xtrain, Xval, Xtest = X_train.copy(), X_val.copy(), X_test.copy()\n",
    "    Xtrain.reviews_per_month = Xtrain.reviews_per_month.fillna(num)\n",
    "    Xval.reviews_per_month = Xval.reviews_per_month.fillna(num)\n",
    "    Xtest.reviews_per_month = Xtest.reviews_per_month.fillna(num)\n",
    "    return Xtrain, Xval, Xtest"
   ]
  },
  {
   "cell_type": "code",
   "execution_count": 17,
   "id": "83313630",
   "metadata": {},
   "outputs": [],
   "source": [
    "def fit (X, y):\n",
    "    X_biased = np.c_[np.ones(X.shape[0]), X]\n",
    "    \n",
    "    #XTX = X.Tdot(X)\n",
    "    #XTX_inv = np.linalg.inv(XTX)\n",
    "    #w = XTX_inv.dot(X.T).dot(y)\n",
    "    w = np.linalg.inv(X_biased.T.dot(X_biased)).dot(X_biased.T).dot(y)\n",
    "    \n",
    "    #return w[0], w[1:]\n",
    "    return w\n",
    "\n",
    "def predict(X,w):\n",
    "    y_pred = w[0] + X.dot(w[1:])\n",
    "    \n",
    "    return y_pred\n",
    "\n",
    "def rmse(y, y_):\n",
    "    error = y - y_\n",
    "    se = error ** 2\n",
    "    mse = se.mean()\n",
    "    rmse = np.sqrt(mse)"
   ]
  },
  {
   "cell_type": "code",
   "execution_count": 18,
   "id": "ed047efa",
   "metadata": {},
   "outputs": [],
   "source": [
    "class LinearRegressor:\n",
    "    def __init__(self, regularize=False, r=None):\n",
    "        self.regularize = regularize\n",
    "        self.r = r\n",
    "        \n",
    "    def fit(self, X, y):\n",
    "        self.X = X\n",
    "        self.y = y\n",
    "        \n",
    "        X_biased = np.column_stack([np.ones(self.X.shape[0]), self.X])\n",
    "        \n",
    "        X = X_biased\n",
    "        self.gram = X.T.dot(X)\n",
    "        \n",
    "        if self.regularize == True and self.r != None :\n",
    "            self.regularization(self.r)\n",
    "        elif self.regularize ==True and self.r == None:\n",
    "            self.regularization()\n",
    "\n",
    "        gram_inv = np.linalg.inv(self.gram)\n",
    "        self.w = gram_inv.dot(X.T).dot(self.y)\n",
    "        #self.w = np.linalg.inv(X_biased.T.dot(X_biased)).dot(X_biased.T).dot(self.y)\n",
    "        print(f'Intercept: {self.w[0]},\\nWeight Matrix: {self.w[1:]}')\n",
    "            \n",
    "    def predict(self, X):\n",
    "        y_pred = self.w[0] + X.dot(self.w[1:])\n",
    "        return y_pred\n",
    "    \n",
    "    def rmse(self, y, y_):\n",
    "        rmse = np.sqrt(np.mean((y - y_)**2))\n",
    "        return rmse\n",
    "    \n",
    "    def regularization(self, r=0.001):\n",
    "        self.gram += r * np.eye(self.gram.shape[0])\n",
    "        return self.gram"
   ]
  },
  {
   "cell_type": "code",
   "execution_count": null,
   "id": "51a02be4",
   "metadata": {},
   "outputs": [],
   "source": []
  },
  {
   "cell_type": "code",
   "execution_count": 16,
   "id": "88e6ad6d",
   "metadata": {},
   "outputs": [],
   "source": [
    "X_train0, X_val0, X_test0 = missing_fill(0)\n",
    "X_train_m, X_val_m, X_test_m = missing_fill(X_train.reviews_per_month.mean())"
   ]
  },
  {
   "cell_type": "code",
   "execution_count": 19,
   "id": "3e2b9513",
   "metadata": {},
   "outputs": [
    {
     "name": "stdout",
     "output_type": "stream",
     "text": [
      "Intercept: -419.91265863459563,\n",
      "Weight Matrix: [ 1.30676225e+00 -5.02167855e+00 -5.59803110e-04 -4.07634896e-04\n",
      " -8.25470066e-03  1.33371320e-03  6.50203890e-04]\n",
      "RMSE:  0.64\n",
      "RMSE:  0.65\n"
     ]
    }
   ],
   "source": [
    "model0 = LinearRegressor()\n",
    "model0.fit(X_train0, y_train)\n",
    "y_pred0_val = model0.predict(X_val0)\n",
    "y_pred0_test = model0.predict(X_test0)\n",
    "error0_val = model0.rmse(y_val, y_pred0_val)\n",
    "error0_test = model0.rmse(y_test, y_pred0_test)\n",
    "print('RMSE: ', round(error0_val, 2))\n",
    "print('RMSE: ', round(error0_test, 2))"
   ]
  },
  {
   "cell_type": "code",
   "execution_count": 20,
   "id": "5e975473",
   "metadata": {},
   "outputs": [
    {
     "name": "stdout",
     "output_type": "stream",
     "text": [
      "Intercept: -423.539308195656,\n",
      "Weight Matrix: [ 1.31148321e+00 -5.06799071e+00 -4.87741552e-04 -6.63849280e-04\n",
      "  5.34563274e-03  1.32706019e-03  6.38794182e-04]\n",
      "RMSE:  0.64\n",
      "RMSE:  0.65\n"
     ]
    }
   ],
   "source": [
    "model_m = LinearRegressor()\n",
    "model_m.fit(X_train_m, y_train)\n",
    "y_pred_m_val = model_m.predict(X_val_m)\n",
    "y_pred_m_test = model_m.predict(X_test_m)\n",
    "error_m_val = model_m.rmse(y_val, y_pred_m_val)\n",
    "error_m_test = model_m.rmse(y_test, y_pred_m_test)\n",
    "print('RMSE: ', round(error_m_val, 2))\n",
    "print('RMSE: ', round(error_m_test, 2))"
   ]
  },
  {
   "cell_type": "code",
   "execution_count": 26,
   "id": "94ce50c8",
   "metadata": {},
   "outputs": [
    {
     "data": {
      "text/plain": [
       "<AxesSubplot:xlabel='price', ylabel='Count'>"
      ]
     },
     "execution_count": 26,
     "metadata": {},
     "output_type": "execute_result"
    },
    {
     "data": {
      "image/png": "[encoded data removed]",
      "text/plain": [
       "<Figure size 432x288 with 1 Axes>"
      ]
     },
     "metadata": {
      "needs_background": "light"
     },
     "output_type": "display_data"
    }
   ],
   "source": [
    "sns.histplot(y_pred0_val, color = 'red', alpha = 0.5, bins = 50)\n",
    "sns.histplot(y_val, color = 'blue', alpha = 0.5, bins = 50)"
   ]
  },
  {
   "cell_type": "code",
   "execution_count": 27,
   "id": "a12f1aee",
   "metadata": {},
   "outputs": [
    {
     "data": {
      "text/plain": [
       "<AxesSubplot:xlabel='price', ylabel='Count'>"
      ]
     },
     "execution_count": 27,
     "metadata": {},
     "output_type": "execute_result"
    },
    {
     "data": {
      "image/png": "[encoded data removed]",
      "text/plain": [
       "<Figure size 432x288 with 1 Axes>"
      ]
     },
     "metadata": {
      "needs_background": "light"
     },
     "output_type": "display_data"
    }
   ],
   "source": [
    "sns.histplot(y_pred0_test, color = 'red', alpha = 0.5, bins = 50)\n",
    "sns.histplot(y_test, color = 'blue', alpha = 0.5, bins = 50)"
   ]
  },
  {
   "cell_type": "code",
   "execution_count": 28,
   "id": "a050fe11",
   "metadata": {},
   "outputs": [
    {
     "data": {
      "text/plain": [
       "<AxesSubplot:xlabel='price', ylabel='Count'>"
      ]
     },
     "execution_count": 28,
     "metadata": {},
     "output_type": "execute_result"
    },
    {
     "data": {
      "image/png": "[encoded data removed]",
      "text/plain": [
       "<Figure size 432x288 with 1 Axes>"
      ]
     },
     "metadata": {
      "needs_background": "light"
     },
     "output_type": "display_data"
    }
   ],
   "source": [
    "sns.histplot(y_pred_m_val, color = 'red', alpha = 0.5, bins = 50)\n",
    "sns.histplot(y_val, color = 'blue', alpha = 0.5, bins = 50)"
   ]
  },
  {
   "cell_type": "code",
   "execution_count": 29,
   "id": "1d51a7d9",
   "metadata": {},
   "outputs": [
    {
     "data": {
      "text/plain": [
       "<AxesSubplot:xlabel='price', ylabel='Count'>"
      ]
     },
     "execution_count": 29,
     "metadata": {},
     "output_type": "execute_result"
    },
    {
     "data": {
      "image/png": "[encoded data removed]",
      "text/plain": [
       "<Figure size 432x288 with 1 Axes>"
      ]
     },
     "metadata": {
      "needs_background": "light"
     },
     "output_type": "display_data"
    }
   ],
   "source": [
    "sns.histplot(y_pred_m_test, color = 'red', alpha = 0.5, bins = 50)\n",
    "sns.histplot(y_test, color = 'blue', alpha = 0.5, bins = 50)"
   ]
  },
  {
   "cell_type": "code",
   "execution_count": null,
   "id": "cdeda225",
   "metadata": {},
   "outputs": [],
   "source": []
  },
  {
   "cell_type": "markdown",
   "id": "f0c04763",
   "metadata": {},
   "source": [
    "### Question 4\n",
    "\n",
    "* Now let's train a regularized linear regression.\n",
    "* For this question, fill the NAs with 0. \n",
    "* Try different values of `r` from this list: `[0, 0.000001, 0.0001, 0.001, 0.01, 0.1, 1, 5, 10]`.\n",
    "* Round the RMSE scores to 2 decimal digits.\n",
    "* Which `r` gives the best RMSE?\n",
    "\n",
    "If there are multiple options, select the smallest `r`.\n"
   ]
  },
  {
   "cell_type": "code",
   "execution_count": 30,
   "id": "8a20d34d",
   "metadata": {},
   "outputs": [
    {
     "name": "stdout",
     "output_type": "stream",
     "text": [
      "For regularization using \"r\" = 0\n",
      "******************************************\n",
      "Intercept: -419.91265863459563,\n",
      "Weight Matrix: [ 1.30676225e+00 -5.02167855e+00 -5.59803110e-04 -4.07634896e-04\n",
      " -8.25470066e-03  1.33371320e-03  6.50203890e-04]\n",
      "------------------------------------------\n",
      "RMSE on Validation:  0.643\n",
      "RMSE on Test:  0.6536\n",
      "############################################################\n",
      "For regularization using \"r\" = 1e-06\n",
      "******************************************\n",
      "Intercept: -419.86271586621507,\n",
      "Weight Matrix: [ 1.30652266e+00 -5.02113521e+00 -5.59738885e-04 -4.07604005e-04\n",
      " -8.25721683e-03  1.33381904e-03  6.50181820e-04]\n",
      "------------------------------------------\n",
      "RMSE on Validation:  0.643\n",
      "RMSE on Test:  0.6536\n",
      "############################################################\n",
      "For regularization using \"r\" = 0.0001\n",
      "******************************************\n",
      "Intercept: -414.97649263761593,\n",
      "Weight Matrix: [ 1.28308132e+00 -4.96797695e+00 -5.53455368e-04 -4.04581728e-04\n",
      " -8.50338984e-03  1.34417423e-03  6.48022556e-04]\n",
      "------------------------------------------\n",
      "RMSE on Validation:  0.6431\n",
      "RMSE on Test:  0.6537\n",
      "############################################################\n",
      "For regularization using \"r\" = 0.001\n",
      "******************************************\n",
      "Intercept: -375.27365275360376,\n",
      "Weight Matrix: [ 1.09261034e+00 -4.53604091e+00 -5.02398869e-04 -3.80024287e-04\n",
      " -1.05036619e-02  1.42831499e-03  6.30477516e-04]\n",
      "------------------------------------------\n",
      "RMSE on Validation:  0.6438\n",
      "RMSE on Test:  0.6542\n",
      "############################################################\n",
      "For regularization using \"r\" = 0.01\n",
      "******************************************\n",
      "Intercept: -191.78384053419808,\n",
      "Weight Matrix: [ 2.12374891e-01 -2.53979164e+00 -2.66437572e-04 -2.66528619e-04\n",
      " -1.97481648e-02  1.81718085e-03  5.49391207e-04]\n",
      "------------------------------------------\n",
      "RMSE on Validation:  0.6558\n",
      "RMSE on Test:  0.6656\n",
      "############################################################\n",
      "For regularization using \"r\" = 0.1\n",
      "******************************************\n",
      "Intercept: -32.56256054996282,\n",
      "Weight Matrix: [-5.50740434e-01 -8.07182995e-01 -6.16905910e-05 -1.68018272e-04\n",
      " -2.77714631e-02  2.15466061e-03  4.79020575e-04]\n",
      "------------------------------------------\n",
      "RMSE on Validation:  0.6773\n",
      "RMSE on Test:  0.687\n",
      "############################################################\n",
      "For regularization using \"r\" = 1\n",
      "******************************************\n",
      "Intercept: -3.4992168360568994,\n",
      "Weight Matrix: [-6.82602844e-01 -4.86829381e-01 -2.43794482e-05 -1.49763552e-04\n",
      " -2.92517312e-02  2.21674736e-03  4.66081219e-04]\n",
      "------------------------------------------\n",
      "RMSE on Validation:  0.6823\n",
      "RMSE on Test:  0.6919\n",
      "############################################################\n",
      "For regularization using \"r\" = 5\n",
      "******************************************\n",
      "Intercept: -0.7033623167239721,\n",
      "Weight Matrix: [-6.64170286e-01 -4.38874738e-01 -2.10495829e-05 -1.46866508e-04\n",
      " -2.94598904e-02  2.22475123e-03  4.64441524e-04]\n",
      "------------------------------------------\n",
      "RMSE on Validation:  0.6828\n",
      "RMSE on Test:  0.6924\n",
      "############################################################\n",
      "For regularization using \"r\" = 10\n",
      "******************************************\n",
      "Intercept: -0.3512767588949242,\n",
      "Weight Matrix: [-6.29775592e-01 -4.15172249e-01 -2.08954469e-05 -1.45331885e-04\n",
      " -2.95535704e-02  2.22785299e-03  4.63827701e-04]\n",
      "------------------------------------------\n",
      "RMSE on Validation:  0.6828\n",
      "RMSE on Test:  0.6924\n",
      "############################################################\n"
     ]
    }
   ],
   "source": [
    "r = [0, 0.000001, 0.0001, 0.001, 0.01, 0.1, 1, 5, 10]\n",
    "\n",
    "for v in r:\n",
    "    print('For regularization using \"r\" =', v)\n",
    "    print('******'*7)\n",
    "    \n",
    "    model0 = LinearRegressor(regularize=True, r=v)\n",
    "    model0.fit(X_train0, y_train)\n",
    "    \n",
    "    y_pred0_val = model0.predict(X_val0)\n",
    "    y_pred0_test = model0.predict(X_test0)\n",
    "    \n",
    "    error0_val = model0.rmse(y_val, y_pred0_val)\n",
    "    error0_test = model0.rmse(y_test, y_pred0_test)\n",
    "    \n",
    "    print('------'*7)\n",
    "    print('RMSE on Validation: ', round(error0_val, 4))\n",
    "    print('RMSE on Test: ', round(error0_test, 4))\n",
    "    print('#'*60)"
   ]
  },
  {
   "cell_type": "markdown",
   "id": "3da29758",
   "metadata": {},
   "source": [
    "Regularization using r = 0, 0.000001 gave the best results"
   ]
  },
  {
   "cell_type": "code",
   "execution_count": null,
   "id": "559fe876",
   "metadata": {},
   "outputs": [],
   "source": []
  },
  {
   "cell_type": "markdown",
   "id": "8d6c0f2a",
   "metadata": {},
   "source": [
    "### Question 5 \n",
    "\n",
    "* We used seed 42 for splitting the data. Let's find out how selecting the seed influences our score.\n",
    "* Try different seed values: `[0, 1, 2, 3, 4, 5, 6, 7, 8, 9]`.\n",
    "* For each seed, do the train/validation/test split with 60%/20%/20% distribution.\n",
    "* Fill the missing values with 0 and train a model without regularization.\n",
    "* For each seed, collect the RMSE scores. \n",
    "* What's the standard deviation of all the scores? To compute the standard deviation, use `np.std`.\n",
    "* Round the result to 3 decimal digits (`round(std, 3)`)\n",
    "\n",
    "\n",
    "> Note: Standard deviation shows how different the values are.\n",
    "> If it's low, then all values are approximately the same.\n",
    "> If it's high, the values are different. \n",
    "> If standard deviation of scores is low, then our model is *stable*.\n",
    "\n"
   ]
  },
  {
   "cell_type": "code",
   "execution_count": 36,
   "id": "950ec8c9",
   "metadata": {},
   "outputs": [
    {
     "name": "stdout",
     "output_type": "stream",
     "text": [
      "For Seed = 0\n",
      "******************************************\n",
      "Intercept: -427.62844626626065,\n",
      "Weight Matrix: [ 1.41633781e+00 -5.06568033e+00 -7.94970258e-04 -4.71770371e-04\n",
      " -7.56506131e-03  1.35330233e-03  6.56026290e-04]\n",
      "------------------------------------------\n",
      "RMSE on Validation:  0.655\n",
      "RMSE on Test:  0.6305\n",
      "############################################################\n",
      "For Seed = 1\n",
      "******************************************\n",
      "Intercept: -414.70554910891815,\n",
      "Weight Matrix: [ 1.36604945e+00 -4.91864293e+00 -5.96198855e-04 -5.73302318e-04\n",
      " -2.28053700e-03  1.42586852e-03  6.27189814e-04]\n",
      "------------------------------------------\n",
      "RMSE on Validation:  0.6463\n",
      "RMSE on Test:  0.6487\n",
      "############################################################\n",
      "For Seed = 2\n",
      "******************************************\n",
      "Intercept: -423.25413365944166,\n",
      "Weight Matrix: [ 1.25819270e+00 -5.09365587e+00 -4.83728837e-04 -4.72323637e-04\n",
      " -5.94704587e-03  1.27871075e-03  6.62544012e-04]\n",
      "------------------------------------------\n",
      "RMSE on Validation:  0.6477\n",
      "RMSE on Test:  0.641\n",
      "############################################################\n",
      "For Seed = 3\n",
      "******************************************\n",
      "Intercept: -421.8933158935208,\n",
      "Weight Matrix: [ 1.35223195e+00 -5.02353184e+00 -8.08468113e-04 -5.43463672e-04\n",
      " -7.06686773e-03  1.26125196e-03  6.75999377e-04]\n",
      "------------------------------------------\n",
      "RMSE on Validation:  0.6375\n",
      "RMSE on Test:  0.6397\n",
      "############################################################\n",
      "For Seed = 4\n",
      "******************************************\n",
      "Intercept: -422.0609909896383,\n",
      "Weight Matrix: [ 1.34711672e+00 -5.02843434e+00 -8.16391927e-04 -4.24958031e-04\n",
      " -4.67085088e-03  1.38430647e-03  6.36579552e-04]\n",
      "------------------------------------------\n",
      "RMSE on Validation:  0.6446\n",
      "RMSE on Test:  0.6556\n",
      "############################################################\n",
      "For Seed = 5\n",
      "******************************************\n",
      "Intercept: -429.178752317333,\n",
      "Weight Matrix: [ 1.34777853e+00 -5.12448022e+00 -5.91712629e-04 -5.43600275e-04\n",
      " -3.77803415e-03  1.23427446e-03  6.49781327e-04]\n",
      "------------------------------------------\n",
      "RMSE on Validation:  0.6306\n",
      "RMSE on Test:  0.6392\n",
      "############################################################\n",
      "For Seed = 6\n",
      "******************************************\n",
      "Intercept: -427.4918955501337,\n",
      "Weight Matrix: [ 1.35776383e+00 -5.09620278e+00 -6.83126159e-04 -5.35236281e-04\n",
      " -4.45110617e-03  1.38328747e-03  6.32771824e-04]\n",
      "------------------------------------------\n",
      "RMSE on Validation:  0.6298\n",
      "RMSE on Test:  0.6474\n",
      "############################################################\n",
      "For Seed = 7\n",
      "******************************************\n",
      "Intercept: -428.18846990339546,\n",
      "Weight Matrix: [ 1.48865406e+00 -5.03339800e+00 -7.12342754e-04 -4.53214537e-04\n",
      " -6.26361727e-03  1.32791056e-03  6.44523408e-04]\n",
      "------------------------------------------\n",
      "RMSE on Validation:  0.6506\n",
      "RMSE on Test:  0.6559\n",
      "############################################################\n",
      "For Seed = 8\n",
      "******************************************\n",
      "Intercept: -427.69291185977454,\n",
      "Weight Matrix: [ 1.37584310e+00 -5.08886361e+00 -8.14013382e-04 -4.03198303e-04\n",
      " -7.91195480e-03  1.27284401e-03  6.73194010e-04]\n",
      "------------------------------------------\n",
      "RMSE on Validation:  0.649\n",
      "RMSE on Test:  0.6405\n",
      "############################################################\n",
      "For Seed = 9\n",
      "******************************************\n",
      "Intercept: -426.9826895634907,\n",
      "Weight Matrix: [ 1.40772345e+00 -5.06180023e+00 -7.75210685e-04 -4.45797108e-04\n",
      " -8.49754462e-03  1.28657548e-03  6.20648117e-04]\n",
      "------------------------------------------\n",
      "RMSE on Validation:  0.6438\n",
      "RMSE on Test:  0.645\n",
      "############################################################\n",
      "======================================================================\n",
      "Standard Deviation of validation Scores: 0.008\n",
      "Standard Deviation of test Scores: 0.007\n",
      "======================================================================\n"
     ]
    }
   ],
   "source": [
    "seed = [0, 1, 2, 3, 4, 5, 6, 7, 8, 9]\n",
    "\n",
    "scores = {'val': [], 'test': []}\n",
    "\n",
    "for i in seed:\n",
    "    print('For Seed =', i)\n",
    "    print('******'*7)\n",
    "    \n",
    "    X_train, y_train, X_val, y_val, X_test, y_test = train_val_test_split(\n",
    "        df = df,\n",
    "        pred_col = 'price',\n",
    "        train_size = .6,\n",
    "        test_size = .2,\n",
    "        val_size = .2,\n",
    "        shuffle = True,\n",
    "        random_state = i\n",
    "    )\n",
    "    \n",
    "    y_train = np.log1p(y_train)\n",
    "    y_val = np.log1p(y_val)\n",
    "    y_test = np.log1p(y_test)\n",
    "\n",
    "    X_train0, X_val0, X_test0 = missing_fill(0)\n",
    "        \n",
    "    model0 = LinearRegressor()\n",
    "    model0.fit(X_train0, y_train)\n",
    "    \n",
    "    y_pred0_val = model0.predict(X_val0)\n",
    "    y_pred0_test = model0.predict(X_test0)\n",
    "    \n",
    "    error0_val = model0.rmse(y_val, y_pred0_val)\n",
    "    error0_test = model0.rmse(y_test, y_pred0_test)\n",
    "    \n",
    "    scores['val'].append(error0_val)\n",
    "    scores['test'].append(error0_test)\n",
    "    \n",
    "    print('------'*7)\n",
    "    print('RMSE on Validation: ', round(error0_val, 4))\n",
    "    print('RMSE on Test: ', round(error0_test, 4))\n",
    "    print('#'*60)\n",
    "else:\n",
    "    print('='*70)\n",
    "    print(f'Standard Deviation of validation Scores: {round(np.std(scores[\"val\"]), 3)}')\n",
    "    print(f'Standard Deviation of test Scores: {round(np.std(scores[\"test\"]), 3)}')\n",
    "    print('='*70)"
   ]
  },
  {
   "cell_type": "code",
   "execution_count": null,
   "id": "b5adebac",
   "metadata": {},
   "outputs": [],
   "source": []
  },
  {
   "cell_type": "code",
   "execution_count": null,
   "id": "6e0778f4",
   "metadata": {},
   "outputs": [],
   "source": []
  },
  {
   "cell_type": "code",
   "execution_count": null,
   "id": "768c4525",
   "metadata": {},
   "outputs": [],
   "source": []
  },
  {
   "cell_type": "code",
   "execution_count": null,
   "id": "1de93db3",
   "metadata": {},
   "outputs": [],
   "source": []
  },
  {
   "cell_type": "code",
   "execution_count": null,
   "id": "4b7b5c5a",
   "metadata": {},
   "outputs": [],
   "source": []
  },
  {
   "cell_type": "markdown",
   "id": "89dd6c7a",
   "metadata": {},
   "source": [
    "### Question 6\n",
    "\n",
    "* Split the dataset like previously, use seed 9.\n",
    "* Combine train and validation datasets.\n",
    "* Train a model with `r=0.001`.\n",
    "* What's the RMSE on test dataset?\n"
   ]
  },
  {
   "cell_type": "code",
   "execution_count": 40,
   "id": "ece4466d",
   "metadata": {},
   "outputs": [
    {
     "name": "stdout",
     "output_type": "stream",
     "text": [
      "(39116, 7) (39116,)\n",
      "0\n"
     ]
    },
    {
     "data": {
      "text/html": [
       "<div>\n",
       "<style scoped>\n",
       "    .dataframe tbody tr th:only-of-type {\n",
       "        vertical-align: middle;\n",
       "    }\n",
       "\n",
       "    .dataframe tbody tr th {\n",
       "        vertical-align: top;\n",
       "    }\n",
       "\n",
       "    .dataframe thead th {\n",
       "        text-align: right;\n",
       "    }\n",
       "</style>\n",
       "<table border=\"1\" class=\"dataframe\">\n",
       "  <thead>\n",
       "    <tr style=\"text-align: right;\">\n",
       "      <th></th>\n",
       "      <th>latitude</th>\n",
       "      <th>longitude</th>\n",
       "      <th>minimum_nights</th>\n",
       "      <th>number_of_reviews</th>\n",
       "      <th>reviews_per_month</th>\n",
       "      <th>calculated_host_listings_count</th>\n",
       "      <th>availability_365</th>\n",
       "    </tr>\n",
       "  </thead>\n",
       "  <tbody>\n",
       "    <tr>\n",
       "      <th>25415</th>\n",
       "      <td>40.70423</td>\n",
       "      <td>-73.91595</td>\n",
       "      <td>1</td>\n",
       "      <td>3</td>\n",
       "      <td>0.13</td>\n",
       "      <td>1</td>\n",
       "      <td>0</td>\n",
       "    </tr>\n",
       "    <tr>\n",
       "      <th>1329</th>\n",
       "      <td>40.77115</td>\n",
       "      <td>-73.92275</td>\n",
       "      <td>40</td>\n",
       "      <td>23</td>\n",
       "      <td>0.27</td>\n",
       "      <td>1</td>\n",
       "      <td>207</td>\n",
       "    </tr>\n",
       "    <tr>\n",
       "      <th>31738</th>\n",
       "      <td>40.70401</td>\n",
       "      <td>-74.00932</td>\n",
       "      <td>29</td>\n",
       "      <td>0</td>\n",
       "      <td>0.00</td>\n",
       "      <td>96</td>\n",
       "      <td>1</td>\n",
       "    </tr>\n",
       "    <tr>\n",
       "      <th>21784</th>\n",
       "      <td>40.74526</td>\n",
       "      <td>-73.97679</td>\n",
       "      <td>30</td>\n",
       "      <td>1</td>\n",
       "      <td>0.04</td>\n",
       "      <td>23</td>\n",
       "      <td>365</td>\n",
       "    </tr>\n",
       "    <tr>\n",
       "      <th>38653</th>\n",
       "      <td>40.59349</td>\n",
       "      <td>-73.76377</td>\n",
       "      <td>1</td>\n",
       "      <td>1</td>\n",
       "      <td>0.16</td>\n",
       "      <td>1</td>\n",
       "      <td>90</td>\n",
       "    </tr>\n",
       "  </tbody>\n",
       "</table>\n",
       "</div>"
      ],
      "text/plain": [
       "       latitude  longitude  minimum_nights  number_of_reviews  \\\n",
       "25415  40.70423  -73.91595               1                  3   \n",
       "1329   40.77115  -73.92275              40                 23   \n",
       "31738  40.70401  -74.00932              29                  0   \n",
       "21784  40.74526  -73.97679              30                  1   \n",
       "38653  40.59349  -73.76377               1                  1   \n",
       "\n",
       "       reviews_per_month  calculated_host_listings_count  availability_365  \n",
       "25415               0.13                               1                 0  \n",
       "1329                0.27                               1               207  \n",
       "31738               0.00                              96                 1  \n",
       "21784               0.04                              23               365  \n",
       "38653               0.16                               1                90  "
      ]
     },
     "metadata": {},
     "output_type": "display_data"
    },
    {
     "data": {
      "text/plain": [
       "25415    4.330733\n",
       "1329     4.248495\n",
       "31738    5.192957\n",
       "21784    5.017280\n",
       "38653    4.110874\n",
       "Name: price, dtype: float64"
      ]
     },
     "metadata": {},
     "output_type": "display_data"
    }
   ],
   "source": [
    "# As the last iteration occured using seed = 9\n",
    "# So we can directly use the dataset thus obtained\n",
    "\n",
    "Xtrain = pd.concat([X_train0, X_val0])\n",
    "ytrain = pd.concat([y_train, y_val])\n",
    "print(Xtrain.shape, ytrain.shape)\n",
    "print(Xtrain.reviews_per_month.isnull().sum())\n",
    "display(Xtrain.head())\n",
    "display(ytrain.head())"
   ]
  },
  {
   "cell_type": "code",
   "execution_count": 46,
   "id": "f5b4ff07",
   "metadata": {},
   "outputs": [
    {
     "name": "stdout",
     "output_type": "stream",
     "text": [
      "Intercept: -389.1162938261379,\n",
      "Weight Matrix: [ 1.21715496e+00 -4.65471641e+00 -7.46757413e-04 -4.79157367e-04\n",
      " -7.65848385e-03  1.39687364e-03  6.06247709e-04]\n",
      "RMSE : 0.6452771348591307\n"
     ]
    }
   ],
   "source": [
    "model = LinearRegressor(regularize=True, r=0.001)\n",
    "model.fit(Xtrain, ytrain)\n",
    "y_pred = model.predict(X_test0)\n",
    "error = model.rmse(y_pred, y_test)\n",
    "print(f'RMSE : {error}')"
   ]
  },
  {
   "cell_type": "code",
   "execution_count": 50,
   "id": "314b11fa",
   "metadata": {},
   "outputs": [
    {
     "name": "stdout",
     "output_type": "stream",
     "text": [
      "0.4160236078420119\n"
     ]
    }
   ],
   "source": [
    "from sklearn.linear_model import LinearRegression\n",
    "from sklearn.metrics import mean_squared_error as rmse\n",
    "\n",
    "m = LinearRegression()\n",
    "m.fit(Xtrain, ytrain)\n",
    "y_ = m.predict(X_test0)\n",
    "error = rmse(y_test, y_)\n",
    "print(error)"
   ]
  }
 ],
 "metadata": {
  "kernelspec": {
   "display_name": "Python 3",
   "language": "python",
   "name": "python3"
  },
  "language_info": {
   "codemirror_mode": {
    "name": "ipython",
    "version": 3
   },
   "file_extension": ".py",
   "mimetype": "text/x-python",
   "name": "python",
   "nbconvert_exporter": "python",
   "pygments_lexer": "ipython3",
   "version": "3.8.8"
  }
 },
 "nbformat": 4,
 "nbformat_minor": 5
}
