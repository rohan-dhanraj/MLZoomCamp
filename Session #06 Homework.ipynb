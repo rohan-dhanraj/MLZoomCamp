{
 "cells": [
  {
   "cell_type": "markdown",
   "metadata": {},
   "source": [
    "## 6.10 Homework\n",
    "\n",
    "The goal of this homework is to create a tree-based regression model for prediction apartment prices (column `'price'`).\n",
    "\n",
    "In this homework we'll again use the New York City Airbnb Open Data dataset - the same one we used in homework 2 and 3.\n",
    "\n",
    "You can take it from [Kaggle](https://www.kaggle.com/dgomonov/new-york-city-airbnb-open-data?select=AB_NYC_2019.csv)\n",
    "or download from [here](https://raw.githubusercontent.com/alexeygrigorev/datasets/master/AB_NYC_2019.csv)\n",
    "if you don't want to sign up to Kaggle.\n",
    "\n",
    "Let's load the data:"
   ]
  },
  {
   "cell_type": "code",
   "execution_count": 1,
   "metadata": {},
   "outputs": [],
   "source": [
    "import pandas as pd\n",
    "import numpy as np\n",
    "\n",
    "import matplotlib.pyplot as plt\n",
    "import seaborn as sns\n",
    "\n",
    "%matplotlib inline\n",
    "\n",
    "from sklearn.model_selection import train_test_split\n",
    "from sklearn.feature_extraction import DictVectorizer\n",
    "from sklearn import tree\n",
    "from sklearn.tree import DecisionTreeRegressor, export_text\n",
    "from sklearn.ensemble import RandomForestRegressor\n",
    "from sklearn.metrics import mean_squared_error\n",
    "\n",
    "import xgboost as xgb"
   ]
  },
  {
   "cell_type": "code",
   "execution_count": 2,
   "metadata": {},
   "outputs": [],
   "source": [
    "columns = [\n",
    "    'neighbourhood_group',\n",
    "    'room_type',\n",
    "    'latitude',\n",
    "    'longitude',\n",
    "    'minimum_nights',\n",
    "    'number_of_reviews',\n",
    "    'reviews_per_month',\n",
    "    'calculated_host_listings_count',\n",
    "    'availability_365',\n",
    "    'price'\n",
    "]\n",
    "\n",
    "df = pd.read_csv('AB_NYC_2019.csv', usecols=columns)\n",
    "df.reviews_per_month = df.reviews_per_month.fillna(0)"
   ]
  },
  {
   "cell_type": "code",
   "execution_count": 3,
   "metadata": {},
   "outputs": [
    {
     "data": {
      "text/html": [
       "<div>\n",
       "<style scoped>\n",
       "    .dataframe tbody tr th:only-of-type {\n",
       "        vertical-align: middle;\n",
       "    }\n",
       "\n",
       "    .dataframe tbody tr th {\n",
       "        vertical-align: top;\n",
       "    }\n",
       "\n",
       "    .dataframe thead th {\n",
       "        text-align: right;\n",
       "    }\n",
       "</style>\n",
       "<table border=\"1\" class=\"dataframe\">\n",
       "  <thead>\n",
       "    <tr style=\"text-align: right;\">\n",
       "      <th></th>\n",
       "      <th>neighbourhood_group</th>\n",
       "      <th>latitude</th>\n",
       "      <th>longitude</th>\n",
       "      <th>room_type</th>\n",
       "      <th>price</th>\n",
       "      <th>minimum_nights</th>\n",
       "      <th>number_of_reviews</th>\n",
       "      <th>reviews_per_month</th>\n",
       "      <th>calculated_host_listings_count</th>\n",
       "      <th>availability_365</th>\n",
       "    </tr>\n",
       "  </thead>\n",
       "  <tbody>\n",
       "    <tr>\n",
       "      <th>0</th>\n",
       "      <td>Brooklyn</td>\n",
       "      <td>40.64749</td>\n",
       "      <td>-73.97237</td>\n",
       "      <td>Private room</td>\n",
       "      <td>149</td>\n",
       "      <td>1</td>\n",
       "      <td>9</td>\n",
       "      <td>0.21</td>\n",
       "      <td>6</td>\n",
       "      <td>365</td>\n",
       "    </tr>\n",
       "    <tr>\n",
       "      <th>1</th>\n",
       "      <td>Manhattan</td>\n",
       "      <td>40.75362</td>\n",
       "      <td>-73.98377</td>\n",
       "      <td>Entire home/apt</td>\n",
       "      <td>225</td>\n",
       "      <td>1</td>\n",
       "      <td>45</td>\n",
       "      <td>0.38</td>\n",
       "      <td>2</td>\n",
       "      <td>355</td>\n",
       "    </tr>\n",
       "    <tr>\n",
       "      <th>2</th>\n",
       "      <td>Manhattan</td>\n",
       "      <td>40.80902</td>\n",
       "      <td>-73.94190</td>\n",
       "      <td>Private room</td>\n",
       "      <td>150</td>\n",
       "      <td>3</td>\n",
       "      <td>0</td>\n",
       "      <td>0.00</td>\n",
       "      <td>1</td>\n",
       "      <td>365</td>\n",
       "    </tr>\n",
       "    <tr>\n",
       "      <th>3</th>\n",
       "      <td>Brooklyn</td>\n",
       "      <td>40.68514</td>\n",
       "      <td>-73.95976</td>\n",
       "      <td>Entire home/apt</td>\n",
       "      <td>89</td>\n",
       "      <td>1</td>\n",
       "      <td>270</td>\n",
       "      <td>4.64</td>\n",
       "      <td>1</td>\n",
       "      <td>194</td>\n",
       "    </tr>\n",
       "    <tr>\n",
       "      <th>4</th>\n",
       "      <td>Manhattan</td>\n",
       "      <td>40.79851</td>\n",
       "      <td>-73.94399</td>\n",
       "      <td>Entire home/apt</td>\n",
       "      <td>80</td>\n",
       "      <td>10</td>\n",
       "      <td>9</td>\n",
       "      <td>0.10</td>\n",
       "      <td>1</td>\n",
       "      <td>0</td>\n",
       "    </tr>\n",
       "  </tbody>\n",
       "</table>\n",
       "</div>"
      ],
      "text/plain": [
       "  neighbourhood_group  latitude  longitude        room_type  price  \\\n",
       "0            Brooklyn  40.64749  -73.97237     Private room    149   \n",
       "1           Manhattan  40.75362  -73.98377  Entire home/apt    225   \n",
       "2           Manhattan  40.80902  -73.94190     Private room    150   \n",
       "3            Brooklyn  40.68514  -73.95976  Entire home/apt     89   \n",
       "4           Manhattan  40.79851  -73.94399  Entire home/apt     80   \n",
       "\n",
       "   minimum_nights  number_of_reviews  reviews_per_month  \\\n",
       "0               1                  9               0.21   \n",
       "1               1                 45               0.38   \n",
       "2               3                  0               0.00   \n",
       "3               1                270               4.64   \n",
       "4              10                  9               0.10   \n",
       "\n",
       "   calculated_host_listings_count  availability_365  \n",
       "0                               6               365  \n",
       "1                               2               355  \n",
       "2                               1               365  \n",
       "3                               1               194  \n",
       "4                               1                 0  "
      ]
     },
     "execution_count": 3,
     "metadata": {},
     "output_type": "execute_result"
    }
   ],
   "source": [
    "df.head()"
   ]
  },
  {
   "cell_type": "markdown",
   "metadata": {},
   "source": [
    "* Apply the log tranform to `price`\n",
    "* Do train/validation/test split with 60%/20%/20% distribution. \n",
    "* Use the `train_test_split` function and set the `random_state` parameter to 1"
   ]
  },
  {
   "cell_type": "code",
   "execution_count": 4,
   "metadata": {},
   "outputs": [],
   "source": [
    "X = df.drop('price', axis=1)\n",
    "y = np.log1p(df.price)\n",
    "\n",
    "X_f, X_test, y_f, y_test = train_test_split(X, y, test_size=0.2, random_state=1)\n",
    "\n",
    "x_train, x_val, y_train, y_val = train_test_split(X_f, y_f, test_size=0.25, random_state=1)"
   ]
  },
  {
   "cell_type": "code",
   "execution_count": 5,
   "metadata": {
    "scrolled": true
   },
   "outputs": [
    {
     "data": {
      "text/html": [
       "<div>\n",
       "<style scoped>\n",
       "    .dataframe tbody tr th:only-of-type {\n",
       "        vertical-align: middle;\n",
       "    }\n",
       "\n",
       "    .dataframe tbody tr th {\n",
       "        vertical-align: top;\n",
       "    }\n",
       "\n",
       "    .dataframe thead th {\n",
       "        text-align: right;\n",
       "    }\n",
       "</style>\n",
       "<table border=\"1\" class=\"dataframe\">\n",
       "  <thead>\n",
       "    <tr style=\"text-align: right;\">\n",
       "      <th></th>\n",
       "      <th>neighbourhood_group</th>\n",
       "      <th>latitude</th>\n",
       "      <th>longitude</th>\n",
       "      <th>room_type</th>\n",
       "      <th>minimum_nights</th>\n",
       "      <th>number_of_reviews</th>\n",
       "      <th>reviews_per_month</th>\n",
       "      <th>calculated_host_listings_count</th>\n",
       "      <th>availability_365</th>\n",
       "    </tr>\n",
       "  </thead>\n",
       "  <tbody>\n",
       "    <tr>\n",
       "      <th>385</th>\n",
       "      <td>Queens</td>\n",
       "      <td>40.76434</td>\n",
       "      <td>-73.92132</td>\n",
       "      <td>Entire home/apt</td>\n",
       "      <td>4</td>\n",
       "      <td>30</td>\n",
       "      <td>0.32</td>\n",
       "      <td>1</td>\n",
       "      <td>363</td>\n",
       "    </tr>\n",
       "    <tr>\n",
       "      <th>33147</th>\n",
       "      <td>Brooklyn</td>\n",
       "      <td>40.73442</td>\n",
       "      <td>-73.95854</td>\n",
       "      <td>Private room</td>\n",
       "      <td>5</td>\n",
       "      <td>2</td>\n",
       "      <td>0.16</td>\n",
       "      <td>1</td>\n",
       "      <td>0</td>\n",
       "    </tr>\n",
       "    <tr>\n",
       "      <th>33881</th>\n",
       "      <td>Brooklyn</td>\n",
       "      <td>40.66359</td>\n",
       "      <td>-73.99487</td>\n",
       "      <td>Entire home/apt</td>\n",
       "      <td>1</td>\n",
       "      <td>33</td>\n",
       "      <td>2.75</td>\n",
       "      <td>5</td>\n",
       "      <td>113</td>\n",
       "    </tr>\n",
       "    <tr>\n",
       "      <th>37208</th>\n",
       "      <td>Brooklyn</td>\n",
       "      <td>40.63766</td>\n",
       "      <td>-74.02626</td>\n",
       "      <td>Private room</td>\n",
       "      <td>3</td>\n",
       "      <td>1</td>\n",
       "      <td>0.12</td>\n",
       "      <td>2</td>\n",
       "      <td>362</td>\n",
       "    </tr>\n",
       "    <tr>\n",
       "      <th>7485</th>\n",
       "      <td>Brooklyn</td>\n",
       "      <td>40.65118</td>\n",
       "      <td>-74.00842</td>\n",
       "      <td>Private room</td>\n",
       "      <td>2</td>\n",
       "      <td>0</td>\n",
       "      <td>0.00</td>\n",
       "      <td>2</td>\n",
       "      <td>365</td>\n",
       "    </tr>\n",
       "    <tr>\n",
       "      <th>...</th>\n",
       "      <td>...</td>\n",
       "      <td>...</td>\n",
       "      <td>...</td>\n",
       "      <td>...</td>\n",
       "      <td>...</td>\n",
       "      <td>...</td>\n",
       "      <td>...</td>\n",
       "      <td>...</td>\n",
       "      <td>...</td>\n",
       "    </tr>\n",
       "    <tr>\n",
       "      <th>2738</th>\n",
       "      <td>Brooklyn</td>\n",
       "      <td>40.69332</td>\n",
       "      <td>-73.96543</td>\n",
       "      <td>Entire home/apt</td>\n",
       "      <td>12</td>\n",
       "      <td>11</td>\n",
       "      <td>0.15</td>\n",
       "      <td>1</td>\n",
       "      <td>15</td>\n",
       "    </tr>\n",
       "    <tr>\n",
       "      <th>25619</th>\n",
       "      <td>Manhattan</td>\n",
       "      <td>40.71856</td>\n",
       "      <td>-73.98753</td>\n",
       "      <td>Private room</td>\n",
       "      <td>4</td>\n",
       "      <td>0</td>\n",
       "      <td>0.00</td>\n",
       "      <td>1</td>\n",
       "      <td>0</td>\n",
       "    </tr>\n",
       "    <tr>\n",
       "      <th>40278</th>\n",
       "      <td>Queens</td>\n",
       "      <td>40.69034</td>\n",
       "      <td>-73.84611</td>\n",
       "      <td>Private room</td>\n",
       "      <td>3</td>\n",
       "      <td>0</td>\n",
       "      <td>0.00</td>\n",
       "      <td>2</td>\n",
       "      <td>178</td>\n",
       "    </tr>\n",
       "    <tr>\n",
       "      <th>17605</th>\n",
       "      <td>Manhattan</td>\n",
       "      <td>40.76324</td>\n",
       "      <td>-73.98459</td>\n",
       "      <td>Entire home/apt</td>\n",
       "      <td>10</td>\n",
       "      <td>1</td>\n",
       "      <td>0.03</td>\n",
       "      <td>1</td>\n",
       "      <td>0</td>\n",
       "    </tr>\n",
       "    <tr>\n",
       "      <th>22406</th>\n",
       "      <td>Manhattan</td>\n",
       "      <td>40.74563</td>\n",
       "      <td>-73.97590</td>\n",
       "      <td>Entire home/apt</td>\n",
       "      <td>30</td>\n",
       "      <td>1</td>\n",
       "      <td>0.07</td>\n",
       "      <td>23</td>\n",
       "      <td>362</td>\n",
       "    </tr>\n",
       "  </tbody>\n",
       "</table>\n",
       "<p>29337 rows × 9 columns</p>\n",
       "</div>"
      ],
      "text/plain": [
       "      neighbourhood_group  latitude  longitude        room_type  \\\n",
       "385                Queens  40.76434  -73.92132  Entire home/apt   \n",
       "33147            Brooklyn  40.73442  -73.95854     Private room   \n",
       "33881            Brooklyn  40.66359  -73.99487  Entire home/apt   \n",
       "37208            Brooklyn  40.63766  -74.02626     Private room   \n",
       "7485             Brooklyn  40.65118  -74.00842     Private room   \n",
       "...                   ...       ...        ...              ...   \n",
       "2738             Brooklyn  40.69332  -73.96543  Entire home/apt   \n",
       "25619           Manhattan  40.71856  -73.98753     Private room   \n",
       "40278              Queens  40.69034  -73.84611     Private room   \n",
       "17605           Manhattan  40.76324  -73.98459  Entire home/apt   \n",
       "22406           Manhattan  40.74563  -73.97590  Entire home/apt   \n",
       "\n",
       "       minimum_nights  number_of_reviews  reviews_per_month  \\\n",
       "385                 4                 30               0.32   \n",
       "33147               5                  2               0.16   \n",
       "33881               1                 33               2.75   \n",
       "37208               3                  1               0.12   \n",
       "7485                2                  0               0.00   \n",
       "...               ...                ...                ...   \n",
       "2738               12                 11               0.15   \n",
       "25619               4                  0               0.00   \n",
       "40278               3                  0               0.00   \n",
       "17605              10                  1               0.03   \n",
       "22406              30                  1               0.07   \n",
       "\n",
       "       calculated_host_listings_count  availability_365  \n",
       "385                                 1               363  \n",
       "33147                               1                 0  \n",
       "33881                               5               113  \n",
       "37208                               2               362  \n",
       "7485                                2               365  \n",
       "...                               ...               ...  \n",
       "2738                                1                15  \n",
       "25619                               1                 0  \n",
       "40278                               2               178  \n",
       "17605                               1                 0  \n",
       "22406                              23               362  \n",
       "\n",
       "[29337 rows x 9 columns]"
      ]
     },
     "execution_count": 5,
     "metadata": {},
     "output_type": "execute_result"
    }
   ],
   "source": [
    "x_train"
   ]
  },
  {
   "cell_type": "code",
   "execution_count": 6,
   "metadata": {},
   "outputs": [
    {
     "data": {
      "text/plain": [
       "385      4.709530\n",
       "33147    4.262680\n",
       "33881    6.133398\n",
       "37208    4.605170\n",
       "7485     7.601402\n",
       "           ...   \n",
       "2738     4.653960\n",
       "25619    4.248495\n",
       "40278    3.931826\n",
       "17605    5.525453\n",
       "22406    5.393628\n",
       "Name: price, Length: 29337, dtype: float64"
      ]
     },
     "execution_count": 6,
     "metadata": {},
     "output_type": "execute_result"
    }
   ],
   "source": [
    "y_train"
   ]
  },
  {
   "cell_type": "markdown",
   "metadata": {},
   "source": [
    "Now, use `DictVectorizer` to turn train and validation into matrices:"
   ]
  },
  {
   "cell_type": "code",
   "execution_count": 7,
   "metadata": {},
   "outputs": [],
   "source": [
    "dv = DictVectorizer(sparse=False)\n",
    "\n",
    "train_dict = x_train.to_dict(orient='records')\n",
    "X_train = dv.fit_transform(train_dict)\n",
    "\n",
    "val_dict = x_val.to_dict(orient='records')\n",
    "X_val = dv.transform(val_dict)"
   ]
  },
  {
   "cell_type": "markdown",
   "metadata": {},
   "source": [
    "## Question 1\n",
    "\n",
    "Let's train a decision tree regressor to predict the price variable. \n",
    "\n",
    "* Train a model with `max_depth=1`"
   ]
  },
  {
   "cell_type": "code",
   "execution_count": 8,
   "metadata": {},
   "outputs": [
    {
     "data": {
      "text/plain": [
       "DecisionTreeRegressor(max_depth=1)"
      ]
     },
     "execution_count": 8,
     "metadata": {},
     "output_type": "execute_result"
    }
   ],
   "source": [
    "dt = DecisionTreeRegressor(max_depth=1)\n",
    "dt.fit(X_train, y_train)"
   ]
  },
  {
   "cell_type": "code",
   "execution_count": 9,
   "metadata": {},
   "outputs": [
    {
     "name": "stdout",
     "output_type": "stream",
     "text": [
      "|--- room_type=Entire home/apt <= 0.50\n",
      "|   |--- value: [4.29]\n",
      "|--- room_type=Entire home/apt >  0.50\n",
      "|   |--- value: [5.15]\n",
      "\n"
     ]
    },
    {
     "name": "stderr",
     "output_type": "stream",
     "text": [
      "C:\\Users\\Rohan\\anaconda3\\lib\\site-packages\\sklearn\\utils\\deprecation.py:87: FutureWarning: Function get_feature_names is deprecated; get_feature_names is deprecated in 1.0 and will be removed in 1.2. Please use get_feature_names_out instead.\n",
      "  warnings.warn(msg, category=FutureWarning)\n"
     ]
    }
   ],
   "source": [
    "print(export_text(dt, feature_names= dv.get_feature_names()))"
   ]
  },
  {
   "cell_type": "code",
   "execution_count": 10,
   "metadata": {},
   "outputs": [
    {
     "data": {
      "text/plain": [
       "[Text(167.4, 163.07999999999998, 'room_type=Entire home/apt <= 0.5\\nsquared_error = 0.485\\nsamples = 29337\\nvalue = 4.739'),\n",
       " Text(83.7, 54.360000000000014, 'squared_error = 0.284\\nsamples = 14041\\nvalue = 4.292'),\n",
       " Text(251.10000000000002, 54.360000000000014, 'squared_error = 0.319\\nsamples = 15296\\nvalue = 5.149')]"
      ]
     },
     "execution_count": 10,
     "metadata": {},
     "output_type": "execute_result"
    },
    {
     "data": {
      "image/png": "[encoded data removed]",
      "text/plain": [
       "<Figure size 432x288 with 1 Axes>"
      ]
     },
     "metadata": {
      "needs_background": "light"
     },
     "output_type": "display_data"
    }
   ],
   "source": [
    "tree.plot_tree(dt, feature_names= dv.get_feature_names())"
   ]
  },
  {
   "cell_type": "markdown",
   "metadata": {},
   "source": [
    "Which feature is used for splitting the data?\n",
    "\n",
    "* `room_type`\n",
    "* `neighbourhood_group`\n",
    "* `number_of_reviews`\n",
    "* `reviews_per_month`"
   ]
  },
  {
   "cell_type": "markdown",
   "metadata": {},
   "source": [
    "### Answer 1\n",
    "**`room_type=Entire home/apt`**"
   ]
  },
  {
   "cell_type": "markdown",
   "metadata": {},
   "source": [
    "## Question 2\n",
    "\n",
    "Train a random forest model with these parameters:\n",
    "\n",
    "* `n_estimators=10`\n",
    "* `random_state=1`\n",
    "* `n_jobs=-1`  (optional - to make training faster)"
   ]
  },
  {
   "cell_type": "code",
   "execution_count": 11,
   "metadata": {},
   "outputs": [
    {
     "data": {
      "text/plain": [
       "RandomForestRegressor(n_estimators=10, n_jobs=-1, random_state=1)"
      ]
     },
     "execution_count": 11,
     "metadata": {},
     "output_type": "execute_result"
    }
   ],
   "source": [
    "rf = RandomForestRegressor(n_estimators=10, random_state=1, n_jobs=-1)\n",
    "rf.fit(X_train, y_train)"
   ]
  },
  {
   "cell_type": "markdown",
   "metadata": {},
   "source": [
    "What's the RMSE of this model on validation?\n",
    "\n",
    "* 0.059\n",
    "* 0.259\n",
    "* 0.459\n",
    "* 0.659"
   ]
  },
  {
   "cell_type": "code",
   "execution_count": 12,
   "metadata": {},
   "outputs": [
    {
     "name": "stdout",
     "output_type": "stream",
     "text": [
      "Root Mean Squared Error:  0.4615632303514057\n"
     ]
    }
   ],
   "source": [
    "y_pred = rf.predict(X_val)\n",
    "rmse = mean_squared_error(y_val, y_pred, squared=False)\n",
    "\n",
    "print('Root Mean Squared Error: ', rmse)"
   ]
  },
  {
   "cell_type": "markdown",
   "metadata": {},
   "source": [
    "### Answer 2\n",
    "**`Root Mean Squared Error:  0.4615632303514057`**"
   ]
  },
  {
   "cell_type": "markdown",
   "metadata": {},
   "source": [
    "## Question 3\n",
    "\n",
    "Now let's experiment with the `n_estimators` parameter\n",
    "\n",
    "* Try different values of this parameter from 10 to 200 with step 10\n",
    "* Set `random_state` to `1`\n",
    "* Evaluate the model on the validation dataset"
   ]
  },
  {
   "cell_type": "code",
   "execution_count": 13,
   "metadata": {
    "scrolled": true
   },
   "outputs": [],
   "source": [
    "scores = []\n",
    "start, stop, step = 10, 200, 10\n",
    "for n_estimator in range(start, stop, step):\n",
    "    rf = RandomForestRegressor(n_estimators=n_estimator, random_state=1, n_jobs=-1)\n",
    "    rf.fit(X_train, y_train)\n",
    "    y_pred = rf.predict(X_val)\n",
    "    rmse = mean_squared_error(y_val, y_pred, squared=False)\n",
    "    scores.append((n_estimator, round(rmse, 3)))"
   ]
  },
  {
   "cell_type": "code",
   "execution_count": 14,
   "metadata": {},
   "outputs": [
    {
     "data": {
      "text/html": [
       "<div>\n",
       "<style scoped>\n",
       "    .dataframe tbody tr th:only-of-type {\n",
       "        vertical-align: middle;\n",
       "    }\n",
       "\n",
       "    .dataframe tbody tr th {\n",
       "        vertical-align: top;\n",
       "    }\n",
       "\n",
       "    .dataframe thead th {\n",
       "        text-align: right;\n",
       "    }\n",
       "</style>\n",
       "<table border=\"1\" class=\"dataframe\">\n",
       "  <thead>\n",
       "    <tr style=\"text-align: right;\">\n",
       "      <th></th>\n",
       "      <th>n_estimators</th>\n",
       "      <th>rmse</th>\n",
       "    </tr>\n",
       "  </thead>\n",
       "  <tbody>\n",
       "    <tr>\n",
       "      <th>0</th>\n",
       "      <td>10</td>\n",
       "      <td>0.462</td>\n",
       "    </tr>\n",
       "    <tr>\n",
       "      <th>1</th>\n",
       "      <td>20</td>\n",
       "      <td>0.448</td>\n",
       "    </tr>\n",
       "    <tr>\n",
       "      <th>2</th>\n",
       "      <td>30</td>\n",
       "      <td>0.446</td>\n",
       "    </tr>\n",
       "    <tr>\n",
       "      <th>3</th>\n",
       "      <td>40</td>\n",
       "      <td>0.444</td>\n",
       "    </tr>\n",
       "    <tr>\n",
       "      <th>4</th>\n",
       "      <td>50</td>\n",
       "      <td>0.442</td>\n",
       "    </tr>\n",
       "    <tr>\n",
       "      <th>5</th>\n",
       "      <td>60</td>\n",
       "      <td>0.442</td>\n",
       "    </tr>\n",
       "    <tr>\n",
       "      <th>6</th>\n",
       "      <td>70</td>\n",
       "      <td>0.441</td>\n",
       "    </tr>\n",
       "    <tr>\n",
       "      <th>7</th>\n",
       "      <td>80</td>\n",
       "      <td>0.441</td>\n",
       "    </tr>\n",
       "    <tr>\n",
       "      <th>8</th>\n",
       "      <td>90</td>\n",
       "      <td>0.441</td>\n",
       "    </tr>\n",
       "    <tr>\n",
       "      <th>9</th>\n",
       "      <td>100</td>\n",
       "      <td>0.440</td>\n",
       "    </tr>\n",
       "    <tr>\n",
       "      <th>10</th>\n",
       "      <td>110</td>\n",
       "      <td>0.439</td>\n",
       "    </tr>\n",
       "    <tr>\n",
       "      <th>11</th>\n",
       "      <td>120</td>\n",
       "      <td>0.439</td>\n",
       "    </tr>\n",
       "    <tr>\n",
       "      <th>12</th>\n",
       "      <td>130</td>\n",
       "      <td>0.439</td>\n",
       "    </tr>\n",
       "    <tr>\n",
       "      <th>13</th>\n",
       "      <td>140</td>\n",
       "      <td>0.439</td>\n",
       "    </tr>\n",
       "    <tr>\n",
       "      <th>14</th>\n",
       "      <td>150</td>\n",
       "      <td>0.439</td>\n",
       "    </tr>\n",
       "    <tr>\n",
       "      <th>15</th>\n",
       "      <td>160</td>\n",
       "      <td>0.439</td>\n",
       "    </tr>\n",
       "    <tr>\n",
       "      <th>16</th>\n",
       "      <td>170</td>\n",
       "      <td>0.439</td>\n",
       "    </tr>\n",
       "    <tr>\n",
       "      <th>17</th>\n",
       "      <td>180</td>\n",
       "      <td>0.439</td>\n",
       "    </tr>\n",
       "    <tr>\n",
       "      <th>18</th>\n",
       "      <td>190</td>\n",
       "      <td>0.439</td>\n",
       "    </tr>\n",
       "  </tbody>\n",
       "</table>\n",
       "</div>"
      ],
      "text/plain": [
       "    n_estimators   rmse\n",
       "0             10  0.462\n",
       "1             20  0.448\n",
       "2             30  0.446\n",
       "3             40  0.444\n",
       "4             50  0.442\n",
       "5             60  0.442\n",
       "6             70  0.441\n",
       "7             80  0.441\n",
       "8             90  0.441\n",
       "9            100  0.440\n",
       "10           110  0.439\n",
       "11           120  0.439\n",
       "12           130  0.439\n",
       "13           140  0.439\n",
       "14           150  0.439\n",
       "15           160  0.439\n",
       "16           170  0.439\n",
       "17           180  0.439\n",
       "18           190  0.439"
      ]
     },
     "execution_count": 14,
     "metadata": {},
     "output_type": "execute_result"
    }
   ],
   "source": [
    "scores_df = pd.DataFrame(scores, columns=['n_estimators', 'rmse'])\n",
    "scores_df"
   ]
  },
  {
   "cell_type": "markdown",
   "metadata": {},
   "source": [
    "After which value of `n_estimators` does RMSE stop improving?\n",
    "\n",
    "- 10\n",
    "- 50\n",
    "- 70\n",
    "- 120"
   ]
  },
  {
   "cell_type": "code",
   "execution_count": 15,
   "metadata": {},
   "outputs": [
    {
     "data": {
      "text/plain": [
       "[<matplotlib.lines.Line2D at 0x240761d2cd0>]"
      ]
     },
     "execution_count": 15,
     "metadata": {},
     "output_type": "execute_result"
    },
    {
     "data": {
      "image/png": "[encoded data removed]",
      "text/plain": [
       "<Figure size 432x288 with 1 Axes>"
      ]
     },
     "metadata": {
      "needs_background": "light"
     },
     "output_type": "display_data"
    }
   ],
   "source": [
    "plt.plot(scores_df.n_estimators, scores_df.rmse)"
   ]
  },
  {
   "cell_type": "markdown",
   "metadata": {},
   "source": [
    "### Answer 3\n",
    "**`n_estimators = 50`**"
   ]
  },
  {
   "cell_type": "markdown",
   "metadata": {},
   "source": [
    "## Question 4\n",
    "\n",
    "Let's select the best `max_depth`:\n",
    "\n",
    "* Try different values of `max_depth`: `[10, 15, 20, 25]`\n",
    "* For each of these values, try different values of `n_estimators` from 10 till 200 (with step 10)\n",
    "* Fix the random seed: `random_state=1`"
   ]
  },
  {
   "cell_type": "code",
   "execution_count": 16,
   "metadata": {},
   "outputs": [],
   "source": [
    "score = []\n",
    "max_depth = [10, 15, 20, 25]\n",
    "\n",
    "for i in max_depth:\n",
    "    start, stop, step = 10, 200, 10\n",
    "    \n",
    "    for n_estimator in range(start, stop, step):\n",
    "        rf = RandomForestRegressor(max_depth=i,\n",
    "                                   n_estimators=n_estimator,\n",
    "                                   random_state=1,\n",
    "                                   n_jobs=-1\n",
    "                                  )\n",
    "        rf.fit(X_train, y_train)\n",
    "        y_pred = rf.predict(X_val)\n",
    "        rmse = mean_squared_error(y_val, y_pred, squared=False)\n",
    "        score.append((i, n_estimator, round(rmse, 3)))"
   ]
  },
  {
   "cell_type": "code",
   "execution_count": 17,
   "metadata": {},
   "outputs": [
    {
     "data": {
      "text/html": [
       "<div>\n",
       "<style scoped>\n",
       "    .dataframe tbody tr th:only-of-type {\n",
       "        vertical-align: middle;\n",
       "    }\n",
       "\n",
       "    .dataframe tbody tr th {\n",
       "        vertical-align: top;\n",
       "    }\n",
       "\n",
       "    .dataframe thead th {\n",
       "        text-align: right;\n",
       "    }\n",
       "</style>\n",
       "<table border=\"1\" class=\"dataframe\">\n",
       "  <thead>\n",
       "    <tr style=\"text-align: right;\">\n",
       "      <th></th>\n",
       "      <th>max_depth</th>\n",
       "      <th>n_estimators</th>\n",
       "      <th>rmse</th>\n",
       "    </tr>\n",
       "  </thead>\n",
       "  <tbody>\n",
       "    <tr>\n",
       "      <th>0</th>\n",
       "      <td>10</td>\n",
       "      <td>10</td>\n",
       "      <td>0.446</td>\n",
       "    </tr>\n",
       "    <tr>\n",
       "      <th>1</th>\n",
       "      <td>10</td>\n",
       "      <td>20</td>\n",
       "      <td>0.442</td>\n",
       "    </tr>\n",
       "    <tr>\n",
       "      <th>2</th>\n",
       "      <td>10</td>\n",
       "      <td>30</td>\n",
       "      <td>0.441</td>\n",
       "    </tr>\n",
       "    <tr>\n",
       "      <th>3</th>\n",
       "      <td>10</td>\n",
       "      <td>40</td>\n",
       "      <td>0.441</td>\n",
       "    </tr>\n",
       "    <tr>\n",
       "      <th>4</th>\n",
       "      <td>10</td>\n",
       "      <td>50</td>\n",
       "      <td>0.441</td>\n",
       "    </tr>\n",
       "    <tr>\n",
       "      <th>...</th>\n",
       "      <td>...</td>\n",
       "      <td>...</td>\n",
       "      <td>...</td>\n",
       "    </tr>\n",
       "    <tr>\n",
       "      <th>71</th>\n",
       "      <td>25</td>\n",
       "      <td>150</td>\n",
       "      <td>0.439</td>\n",
       "    </tr>\n",
       "    <tr>\n",
       "      <th>72</th>\n",
       "      <td>25</td>\n",
       "      <td>160</td>\n",
       "      <td>0.439</td>\n",
       "    </tr>\n",
       "    <tr>\n",
       "      <th>73</th>\n",
       "      <td>25</td>\n",
       "      <td>170</td>\n",
       "      <td>0.439</td>\n",
       "    </tr>\n",
       "    <tr>\n",
       "      <th>74</th>\n",
       "      <td>25</td>\n",
       "      <td>180</td>\n",
       "      <td>0.439</td>\n",
       "    </tr>\n",
       "    <tr>\n",
       "      <th>75</th>\n",
       "      <td>25</td>\n",
       "      <td>190</td>\n",
       "      <td>0.439</td>\n",
       "    </tr>\n",
       "  </tbody>\n",
       "</table>\n",
       "<p>76 rows × 3 columns</p>\n",
       "</div>"
      ],
      "text/plain": [
       "    max_depth  n_estimators   rmse\n",
       "0          10            10  0.446\n",
       "1          10            20  0.442\n",
       "2          10            30  0.441\n",
       "3          10            40  0.441\n",
       "4          10            50  0.441\n",
       "..        ...           ...    ...\n",
       "71         25           150  0.439\n",
       "72         25           160  0.439\n",
       "73         25           170  0.439\n",
       "74         25           180  0.439\n",
       "75         25           190  0.439\n",
       "\n",
       "[76 rows x 3 columns]"
      ]
     },
     "execution_count": 17,
     "metadata": {},
     "output_type": "execute_result"
    }
   ],
   "source": [
    "score_df = pd.DataFrame(score, columns=['max_depth', 'n_estimators', 'rmse'])\n",
    "score_df"
   ]
  },
  {
   "cell_type": "raw",
   "metadata": {},
   "source": [
    "for i in scores.keys():\n",
    "    print(f'Max Depth = {i}')\n",
    "    print('='*30)\n",
    "    for j in scores[i].keys():\n",
    "        print(f'n_estimators = {j}\\tRMSE = {scores[i][j]}')\n",
    "        print('-'*60)\n",
    "    print('#'*70)"
   ]
  },
  {
   "cell_type": "code",
   "execution_count": 18,
   "metadata": {},
   "outputs": [
    {
     "data": {
      "text/plain": [
       "29    15\n",
       "30    15\n",
       "31    15\n",
       "32    15\n",
       "33    15\n",
       "34    15\n",
       "35    15\n",
       "36    15\n",
       "37    15\n",
       "Name: max_depth, dtype: int64"
      ]
     },
     "execution_count": 18,
     "metadata": {},
     "output_type": "execute_result"
    }
   ],
   "source": [
    "score_df.iloc[np.where(score_df.rmse == score_df.rmse.min())]['max_depth']"
   ]
  },
  {
   "cell_type": "markdown",
   "metadata": {},
   "source": [
    "What's the best `max_depth`:\n",
    "\n",
    "* 10\n",
    "* 15\n",
    "* 20\n",
    "* 25\n",
    "\n",
    "Bonus question (not graded):\n",
    "\n",
    "Will the answer be different if we change the seed for the model?"
   ]
  },
  {
   "cell_type": "code",
   "execution_count": 19,
   "metadata": {},
   "outputs": [
    {
     "data": {
      "text/plain": [
       "<matplotlib.legend.Legend at 0x24000207190>"
      ]
     },
     "execution_count": 19,
     "metadata": {},
     "output_type": "execute_result"
    },
    {
     "data": {
      "image/png": "[encoded data removed]",
      "text/plain": [
       "<Figure size 432x288 with 1 Axes>"
      ]
     },
     "metadata": {
      "needs_background": "light"
     },
     "output_type": "display_data"
    }
   ],
   "source": [
    "for d in max_depth:\n",
    "    df_subset = score_df[score_df.max_depth == d]\n",
    "    plt.plot(df_subset.n_estimators, df_subset.rmse, label=f'max_depth = {d}')\n",
    "    \n",
    "plt.legend()"
   ]
  },
  {
   "cell_type": "markdown",
   "metadata": {},
   "source": [
    "### Answer 4\n",
    "* Best **`max_depth`** = **`15`**\n",
    "* Yes, the result if we change the seed for the model changes."
   ]
  },
  {
   "cell_type": "markdown",
   "metadata": {},
   "source": [
    "## Question 5\n",
    "\n",
    "We can extract feature importance information from tree-based models. \n",
    "\n",
    "At each step of the decision tree learning algorith, it finds the best split. \n",
    "When doint it, we can calculate \"gain\" - the reduction in impurity before and after the split. \n",
    "This gain is quite useful in understanding what are the imporatant features \n",
    "for tree-based models.\n",
    "\n",
    "In Scikit-Learn, tree-based models contain this information in the `feature_importances_` field. \n",
    "\n",
    "For this homework question, we'll find the most important feature:\n",
    "\n",
    "* Train the model with these parametes:\n",
    "    * `n_estimators=10`,\n",
    "    * `max_depth=20`,\n",
    "    * `random_state=1`,\n",
    "    * `n_jobs=-1` (optional)\n",
    "* Get the feature importance information from this model"
   ]
  },
  {
   "cell_type": "code",
   "execution_count": 20,
   "metadata": {},
   "outputs": [
    {
     "data": {
      "text/plain": [
       "RandomForestRegressor(max_depth=20, n_estimators=10, n_jobs=-1, random_state=1)"
      ]
     },
     "execution_count": 20,
     "metadata": {},
     "output_type": "execute_result"
    }
   ],
   "source": [
    "ensem = RandomForestRegressor(n_estimators=10, max_depth=20, random_state=1, n_jobs=-1)\n",
    "ensem.fit(X_train, y_train)"
   ]
  },
  {
   "cell_type": "code",
   "execution_count": 21,
   "metadata": {},
   "outputs": [
    {
     "data": {
      "text/html": [
       "<div>\n",
       "<style scoped>\n",
       "    .dataframe tbody tr th:only-of-type {\n",
       "        vertical-align: middle;\n",
       "    }\n",
       "\n",
       "    .dataframe tbody tr th {\n",
       "        vertical-align: top;\n",
       "    }\n",
       "\n",
       "    .dataframe thead th {\n",
       "        text-align: right;\n",
       "    }\n",
       "</style>\n",
       "<table border=\"1\" class=\"dataframe\">\n",
       "  <thead>\n",
       "    <tr style=\"text-align: right;\">\n",
       "      <th></th>\n",
       "      <th>features</th>\n",
       "      <th>importance</th>\n",
       "    </tr>\n",
       "  </thead>\n",
       "  <tbody>\n",
       "    <tr>\n",
       "      <th>0</th>\n",
       "      <td>availability_365</td>\n",
       "      <td>0.076264</td>\n",
       "    </tr>\n",
       "    <tr>\n",
       "      <th>1</th>\n",
       "      <td>calculated_host_listings_count</td>\n",
       "      <td>0.030102</td>\n",
       "    </tr>\n",
       "    <tr>\n",
       "      <th>2</th>\n",
       "      <td>latitude</td>\n",
       "      <td>0.152775</td>\n",
       "    </tr>\n",
       "    <tr>\n",
       "      <th>3</th>\n",
       "      <td>longitude</td>\n",
       "      <td>0.154101</td>\n",
       "    </tr>\n",
       "    <tr>\n",
       "      <th>4</th>\n",
       "      <td>minimum_nights</td>\n",
       "      <td>0.053252</td>\n",
       "    </tr>\n",
       "    <tr>\n",
       "      <th>5</th>\n",
       "      <td>neighbourhood_group=Bronx</td>\n",
       "      <td>0.000265</td>\n",
       "    </tr>\n",
       "    <tr>\n",
       "      <th>6</th>\n",
       "      <td>neighbourhood_group=Brooklyn</td>\n",
       "      <td>0.000966</td>\n",
       "    </tr>\n",
       "    <tr>\n",
       "      <th>7</th>\n",
       "      <td>neighbourhood_group=Manhattan</td>\n",
       "      <td>0.034047</td>\n",
       "    </tr>\n",
       "    <tr>\n",
       "      <th>8</th>\n",
       "      <td>neighbourhood_group=Queens</td>\n",
       "      <td>0.001166</td>\n",
       "    </tr>\n",
       "    <tr>\n",
       "      <th>9</th>\n",
       "      <td>neighbourhood_group=Staten Island</td>\n",
       "      <td>0.000084</td>\n",
       "    </tr>\n",
       "    <tr>\n",
       "      <th>10</th>\n",
       "      <td>number_of_reviews</td>\n",
       "      <td>0.041594</td>\n",
       "    </tr>\n",
       "    <tr>\n",
       "      <th>11</th>\n",
       "      <td>reviews_per_month</td>\n",
       "      <td>0.054430</td>\n",
       "    </tr>\n",
       "    <tr>\n",
       "      <th>12</th>\n",
       "      <td>room_type=Entire home/apt</td>\n",
       "      <td>0.391898</td>\n",
       "    </tr>\n",
       "    <tr>\n",
       "      <th>13</th>\n",
       "      <td>room_type=Private room</td>\n",
       "      <td>0.004032</td>\n",
       "    </tr>\n",
       "    <tr>\n",
       "      <th>14</th>\n",
       "      <td>room_type=Shared room</td>\n",
       "      <td>0.005023</td>\n",
       "    </tr>\n",
       "  </tbody>\n",
       "</table>\n",
       "</div>"
      ],
      "text/plain": [
       "                             features  importance\n",
       "0                    availability_365    0.076264\n",
       "1      calculated_host_listings_count    0.030102\n",
       "2                            latitude    0.152775\n",
       "3                           longitude    0.154101\n",
       "4                      minimum_nights    0.053252\n",
       "5           neighbourhood_group=Bronx    0.000265\n",
       "6        neighbourhood_group=Brooklyn    0.000966\n",
       "7       neighbourhood_group=Manhattan    0.034047\n",
       "8          neighbourhood_group=Queens    0.001166\n",
       "9   neighbourhood_group=Staten Island    0.000084\n",
       "10                  number_of_reviews    0.041594\n",
       "11                  reviews_per_month    0.054430\n",
       "12          room_type=Entire home/apt    0.391898\n",
       "13             room_type=Private room    0.004032\n",
       "14              room_type=Shared room    0.005023"
      ]
     },
     "execution_count": 21,
     "metadata": {},
     "output_type": "execute_result"
    }
   ],
   "source": [
    "imp_dict = {'features': dv.get_feature_names_out(), 'importance':ensem.feature_importances_}\n",
    "imp_df = pd.DataFrame(imp_dict)\n",
    "imp_df"
   ]
  },
  {
   "cell_type": "markdown",
   "metadata": {},
   "source": [
    "What's the most important feature? \n",
    "\n",
    "* `neighbourhood_group=Manhattan`\n",
    "* `room_type=Entire home/apt`\t\n",
    "* `longitude`\n",
    "* `latitude`"
   ]
  },
  {
   "cell_type": "code",
   "execution_count": 22,
   "metadata": {},
   "outputs": [
    {
     "data": {
      "text/plain": [
       "12    room_type=Entire home/apt\n",
       "Name: features, dtype: object"
      ]
     },
     "execution_count": 22,
     "metadata": {},
     "output_type": "execute_result"
    }
   ],
   "source": [
    "imp_df[imp_df.importance == imp_df.importance.max()]['features']"
   ]
  },
  {
   "cell_type": "markdown",
   "metadata": {},
   "source": [
    "### Answer 5\n",
    "Most important feature : **`room_type=Entire home/apt`**"
   ]
  },
  {
   "cell_type": "markdown",
   "metadata": {},
   "source": [
    "## Question 6"
   ]
  },
  {
   "cell_type": "markdown",
   "metadata": {},
   "source": [
    "Now let's train an XGBoost model! For this question, we'll tune the `eta` parameter\n",
    "\n",
    "* Install XGBoost\n",
    "* Create DMatrix for train and validation\n",
    "* Create a watchlist\n",
    "* Train a model with these parameters for 100 rounds:\n",
    "\n",
    "```\n",
    "xgb_params = {\n",
    "    'eta': 0.3, \n",
    "    'max_depth': 6,\n",
    "    'min_child_weight': 1,\n",
    "    \n",
    "    'objective': 'reg:squarederror',\n",
    "    'nthread': 8,\n",
    "    \n",
    "    'seed': 1,\n",
    "    'verbosity': 1,\n",
    "}\n",
    "```"
   ]
  },
  {
   "cell_type": "code",
   "execution_count": 23,
   "metadata": {},
   "outputs": [],
   "source": [
    "features = dv.get_feature_names_out()\n",
    "dtrain = xgb.DMatrix(X_train, label=y_train, feature_names=features)\n",
    "dval = xgb.DMatrix(X_val, label=y_val, feature_names=features)"
   ]
  },
  {
   "cell_type": "code",
   "execution_count": 24,
   "metadata": {},
   "outputs": [
    {
     "name": "stdout",
     "output_type": "stream",
     "text": [
      "[0]\ttrain-rmse:3.02752\tvalidation-rmse:3.02415\n",
      "[1]\ttrain-rmse:2.14667\tvalidation-rmse:2.14390\n",
      "[2]\ttrain-rmse:1.53878\tvalidation-rmse:1.53721\n",
      "[3]\ttrain-rmse:1.12557\tvalidation-rmse:1.12523\n",
      "[4]\ttrain-rmse:0.85100\tvalidation-rmse:0.85174\n",
      "[5]\ttrain-rmse:0.67490\tvalidation-rmse:0.67752\n",
      "[6]\ttrain-rmse:0.56687\tvalidation-rmse:0.57148\n",
      "[7]\ttrain-rmse:0.50448\tvalidation-rmse:0.51139\n",
      "[8]\ttrain-rmse:0.46913\tvalidation-rmse:0.47777\n",
      "[9]\ttrain-rmse:0.45009\tvalidation-rmse:0.45965\n",
      "[10]\ttrain-rmse:0.43912\tvalidation-rmse:0.44981\n",
      "[11]\ttrain-rmse:0.43327\tvalidation-rmse:0.44475\n",
      "[12]\ttrain-rmse:0.42936\tvalidation-rmse:0.44210\n",
      "[13]\ttrain-rmse:0.42668\tvalidation-rmse:0.44038\n",
      "[14]\ttrain-rmse:0.42463\tvalidation-rmse:0.43943\n",
      "[15]\ttrain-rmse:0.42259\tvalidation-rmse:0.43827\n",
      "[16]\ttrain-rmse:0.42113\tvalidation-rmse:0.43772\n",
      "[17]\ttrain-rmse:0.42074\tvalidation-rmse:0.43787\n",
      "[18]\ttrain-rmse:0.41896\tvalidation-rmse:0.43744\n",
      "[19]\ttrain-rmse:0.41812\tvalidation-rmse:0.43726\n",
      "[20]\ttrain-rmse:0.41716\tvalidation-rmse:0.43691\n",
      "[21]\ttrain-rmse:0.41499\tvalidation-rmse:0.43645\n",
      "[22]\ttrain-rmse:0.41437\tvalidation-rmse:0.43611\n",
      "[23]\ttrain-rmse:0.41403\tvalidation-rmse:0.43614\n",
      "[24]\ttrain-rmse:0.41391\tvalidation-rmse:0.43630\n",
      "[25]\ttrain-rmse:0.41365\tvalidation-rmse:0.43621\n",
      "[26]\ttrain-rmse:0.41272\tvalidation-rmse:0.43628\n",
      "[27]\ttrain-rmse:0.41138\tvalidation-rmse:0.43618\n",
      "[28]\ttrain-rmse:0.41088\tvalidation-rmse:0.43617\n",
      "[29]\ttrain-rmse:0.40858\tvalidation-rmse:0.43573\n",
      "[30]\ttrain-rmse:0.40712\tvalidation-rmse:0.43543\n",
      "[31]\ttrain-rmse:0.40684\tvalidation-rmse:0.43553\n",
      "[32]\ttrain-rmse:0.40577\tvalidation-rmse:0.43536\n",
      "[33]\ttrain-rmse:0.40520\tvalidation-rmse:0.43503\n",
      "[34]\ttrain-rmse:0.40503\tvalidation-rmse:0.43500\n",
      "[35]\ttrain-rmse:0.40444\tvalidation-rmse:0.43510\n",
      "[36]\ttrain-rmse:0.40419\tvalidation-rmse:0.43505\n",
      "[37]\ttrain-rmse:0.40367\tvalidation-rmse:0.43505\n",
      "[38]\ttrain-rmse:0.40183\tvalidation-rmse:0.43473\n",
      "[39]\ttrain-rmse:0.40117\tvalidation-rmse:0.43471\n",
      "[40]\ttrain-rmse:0.40103\tvalidation-rmse:0.43466\n",
      "[41]\ttrain-rmse:0.39991\tvalidation-rmse:0.43435\n",
      "[42]\ttrain-rmse:0.39905\tvalidation-rmse:0.43395\n",
      "[43]\ttrain-rmse:0.39873\tvalidation-rmse:0.43378\n",
      "[44]\ttrain-rmse:0.39786\tvalidation-rmse:0.43378\n",
      "[45]\ttrain-rmse:0.39723\tvalidation-rmse:0.43371\n",
      "[46]\ttrain-rmse:0.39665\tvalidation-rmse:0.43381\n",
      "[47]\ttrain-rmse:0.39620\tvalidation-rmse:0.43388\n",
      "[48]\ttrain-rmse:0.39603\tvalidation-rmse:0.43382\n",
      "[49]\ttrain-rmse:0.39544\tvalidation-rmse:0.43397\n",
      "[50]\ttrain-rmse:0.39446\tvalidation-rmse:0.43384\n",
      "[51]\ttrain-rmse:0.39388\tvalidation-rmse:0.43396\n",
      "[52]\ttrain-rmse:0.39349\tvalidation-rmse:0.43403\n",
      "[53]\ttrain-rmse:0.39299\tvalidation-rmse:0.43407\n",
      "[54]\ttrain-rmse:0.39205\tvalidation-rmse:0.43396\n",
      "[55]\ttrain-rmse:0.39129\tvalidation-rmse:0.43378\n",
      "[56]\ttrain-rmse:0.39081\tvalidation-rmse:0.43389\n",
      "[57]\ttrain-rmse:0.38988\tvalidation-rmse:0.43409\n",
      "[58]\ttrain-rmse:0.38864\tvalidation-rmse:0.43395\n",
      "[59]\ttrain-rmse:0.38771\tvalidation-rmse:0.43399\n",
      "[60]\ttrain-rmse:0.38743\tvalidation-rmse:0.43404\n",
      "[61]\ttrain-rmse:0.38706\tvalidation-rmse:0.43381\n",
      "[62]\ttrain-rmse:0.38621\tvalidation-rmse:0.43391\n",
      "[63]\ttrain-rmse:0.38567\tvalidation-rmse:0.43387\n",
      "[64]\ttrain-rmse:0.38493\tvalidation-rmse:0.43409\n",
      "[65]\ttrain-rmse:0.38421\tvalidation-rmse:0.43450\n",
      "[66]\ttrain-rmse:0.38372\tvalidation-rmse:0.43474\n",
      "[67]\ttrain-rmse:0.38314\tvalidation-rmse:0.43496\n",
      "[68]\ttrain-rmse:0.38213\tvalidation-rmse:0.43483\n",
      "[69]\ttrain-rmse:0.38159\tvalidation-rmse:0.43485\n",
      "[70]\ttrain-rmse:0.38117\tvalidation-rmse:0.43467\n",
      "[71]\ttrain-rmse:0.38056\tvalidation-rmse:0.43479\n",
      "[72]\ttrain-rmse:0.37990\tvalidation-rmse:0.43474\n",
      "[73]\ttrain-rmse:0.37878\tvalidation-rmse:0.43483\n",
      "[74]\ttrain-rmse:0.37843\tvalidation-rmse:0.43488\n",
      "[75]\ttrain-rmse:0.37801\tvalidation-rmse:0.43489\n",
      "[76]\ttrain-rmse:0.37782\tvalidation-rmse:0.43504\n",
      "[77]\ttrain-rmse:0.37762\tvalidation-rmse:0.43509\n",
      "[78]\ttrain-rmse:0.37757\tvalidation-rmse:0.43506\n",
      "[79]\ttrain-rmse:0.37722\tvalidation-rmse:0.43508\n",
      "[80]\ttrain-rmse:0.37668\tvalidation-rmse:0.43526\n",
      "[81]\ttrain-rmse:0.37586\tvalidation-rmse:0.43527\n",
      "[82]\ttrain-rmse:0.37500\tvalidation-rmse:0.43545\n",
      "[83]\ttrain-rmse:0.37398\tvalidation-rmse:0.43535\n",
      "[84]\ttrain-rmse:0.37332\tvalidation-rmse:0.43556\n",
      "[85]\ttrain-rmse:0.37259\tvalidation-rmse:0.43537\n",
      "[86]\ttrain-rmse:0.37222\tvalidation-rmse:0.43552\n",
      "[87]\ttrain-rmse:0.37156\tvalidation-rmse:0.43547\n",
      "[88]\ttrain-rmse:0.37124\tvalidation-rmse:0.43551\n",
      "[89]\ttrain-rmse:0.37056\tvalidation-rmse:0.43525\n",
      "[90]\ttrain-rmse:0.36998\tvalidation-rmse:0.43539\n",
      "[91]\ttrain-rmse:0.36975\tvalidation-rmse:0.43544\n",
      "[92]\ttrain-rmse:0.36971\tvalidation-rmse:0.43546\n",
      "[93]\ttrain-rmse:0.36875\tvalidation-rmse:0.43544\n",
      "[94]\ttrain-rmse:0.36798\tvalidation-rmse:0.43560\n",
      "[95]\ttrain-rmse:0.36742\tvalidation-rmse:0.43579\n",
      "[96]\ttrain-rmse:0.36698\tvalidation-rmse:0.43584\n",
      "[97]\ttrain-rmse:0.36644\tvalidation-rmse:0.43595\n",
      "[98]\ttrain-rmse:0.36582\tvalidation-rmse:0.43597\n",
      "[99]\ttrain-rmse:0.36478\tvalidation-rmse:0.43621\n"
     ]
    }
   ],
   "source": [
    "xgb_params = {\n",
    "    'eta': 0.3, \n",
    "    'max_depth': 6,\n",
    "    'min_child_weight': 1,\n",
    "\n",
    "    'objective': 'reg:squarederror',\n",
    "    'nthread': 8,\n",
    "\n",
    "    'seed': 1,\n",
    "    'verbosity': 1,\n",
    "}\n",
    "\n",
    "watchlist = [(dtrain, 'train'), (dval, 'validation')]\n",
    "\n",
    "model = xgb.train(xgb_params, dtrain, num_boost_round=100, evals=watchlist)"
   ]
  },
  {
   "cell_type": "code",
   "execution_count": 25,
   "metadata": {},
   "outputs": [],
   "source": [
    "y_pred = model.predict(dval)"
   ]
  },
  {
   "cell_type": "code",
   "execution_count": 26,
   "metadata": {},
   "outputs": [
    {
     "data": {
      "text/plain": [
       "0.43621034591295677"
      ]
     },
     "execution_count": 26,
     "metadata": {},
     "output_type": "execute_result"
    }
   ],
   "source": [
    "rmse = mean_squared_error(y_val, y_pred, squared=False)\n",
    "rmse"
   ]
  },
  {
   "cell_type": "markdown",
   "metadata": {},
   "source": [
    "Now change `eta` first to `0.1` and then to `0.01`"
   ]
  },
  {
   "cell_type": "code",
   "execution_count": 27,
   "metadata": {},
   "outputs": [
    {
     "name": "stdout",
     "output_type": "stream",
     "text": [
      "[0]\ttrain-rmse:3.87217\tvalidation-rmse:3.86889\n",
      "[1]\ttrain-rmse:3.49150\tvalidation-rmse:3.48840\n",
      "[2]\ttrain-rmse:3.14949\tvalidation-rmse:3.14635\n",
      "[3]\ttrain-rmse:2.84232\tvalidation-rmse:2.83951\n",
      "[4]\ttrain-rmse:2.56650\tvalidation-rmse:2.56412\n",
      "[5]\ttrain-rmse:2.31905\tvalidation-rmse:2.31692\n",
      "[6]\ttrain-rmse:2.09714\tvalidation-rmse:2.09526\n",
      "[7]\ttrain-rmse:1.89834\tvalidation-rmse:1.89663\n",
      "[8]\ttrain-rmse:1.72033\tvalidation-rmse:1.71878\n",
      "[9]\ttrain-rmse:1.56120\tvalidation-rmse:1.55976\n",
      "[10]\ttrain-rmse:1.41910\tvalidation-rmse:1.41786\n",
      "[11]\ttrain-rmse:1.29248\tvalidation-rmse:1.29149\n",
      "[12]\ttrain-rmse:1.17977\tvalidation-rmse:1.17907\n",
      "[13]\ttrain-rmse:1.07974\tvalidation-rmse:1.07936\n",
      "[14]\ttrain-rmse:0.99113\tvalidation-rmse:0.99118\n",
      "[15]\ttrain-rmse:0.91299\tvalidation-rmse:0.91348\n",
      "[16]\ttrain-rmse:0.84421\tvalidation-rmse:0.84524\n",
      "[17]\ttrain-rmse:0.78390\tvalidation-rmse:0.78525\n",
      "[18]\ttrain-rmse:0.73111\tvalidation-rmse:0.73308\n",
      "[19]\ttrain-rmse:0.68507\tvalidation-rmse:0.68776\n",
      "[20]\ttrain-rmse:0.64528\tvalidation-rmse:0.64883\n",
      "[21]\ttrain-rmse:0.61109\tvalidation-rmse:0.61518\n",
      "[22]\ttrain-rmse:0.58175\tvalidation-rmse:0.58648\n",
      "[23]\ttrain-rmse:0.55655\tvalidation-rmse:0.56186\n",
      "[24]\ttrain-rmse:0.53529\tvalidation-rmse:0.54108\n",
      "[25]\ttrain-rmse:0.51733\tvalidation-rmse:0.52364\n",
      "[26]\ttrain-rmse:0.50209\tvalidation-rmse:0.50888\n",
      "[27]\ttrain-rmse:0.48935\tvalidation-rmse:0.49679\n",
      "[28]\ttrain-rmse:0.47866\tvalidation-rmse:0.48660\n",
      "[29]\ttrain-rmse:0.46967\tvalidation-rmse:0.47817\n",
      "[30]\ttrain-rmse:0.46186\tvalidation-rmse:0.47101\n",
      "[31]\ttrain-rmse:0.45547\tvalidation-rmse:0.46521\n",
      "[32]\ttrain-rmse:0.44997\tvalidation-rmse:0.46016\n",
      "[33]\ttrain-rmse:0.44555\tvalidation-rmse:0.45617\n",
      "[34]\ttrain-rmse:0.44168\tvalidation-rmse:0.45277\n",
      "[35]\ttrain-rmse:0.43843\tvalidation-rmse:0.44997\n",
      "[36]\ttrain-rmse:0.43571\tvalidation-rmse:0.44778\n",
      "[37]\ttrain-rmse:0.43341\tvalidation-rmse:0.44584\n",
      "[38]\ttrain-rmse:0.43126\tvalidation-rmse:0.44400\n",
      "[39]\ttrain-rmse:0.42921\tvalidation-rmse:0.44259\n",
      "[40]\ttrain-rmse:0.42770\tvalidation-rmse:0.44150\n",
      "[41]\ttrain-rmse:0.42642\tvalidation-rmse:0.44060\n",
      "[42]\ttrain-rmse:0.42515\tvalidation-rmse:0.43983\n",
      "[43]\ttrain-rmse:0.42411\tvalidation-rmse:0.43892\n",
      "[44]\ttrain-rmse:0.42303\tvalidation-rmse:0.43830\n",
      "[45]\ttrain-rmse:0.42222\tvalidation-rmse:0.43795\n",
      "[46]\ttrain-rmse:0.42123\tvalidation-rmse:0.43730\n",
      "[47]\ttrain-rmse:0.42050\tvalidation-rmse:0.43701\n",
      "[48]\ttrain-rmse:0.41980\tvalidation-rmse:0.43670\n",
      "[49]\ttrain-rmse:0.41924\tvalidation-rmse:0.43629\n",
      "[50]\ttrain-rmse:0.41868\tvalidation-rmse:0.43589\n",
      "[51]\ttrain-rmse:0.41808\tvalidation-rmse:0.43574\n",
      "[52]\ttrain-rmse:0.41780\tvalidation-rmse:0.43562\n",
      "[53]\ttrain-rmse:0.41741\tvalidation-rmse:0.43538\n",
      "[54]\ttrain-rmse:0.41694\tvalidation-rmse:0.43537\n",
      "[55]\ttrain-rmse:0.41644\tvalidation-rmse:0.43515\n",
      "[56]\ttrain-rmse:0.41608\tvalidation-rmse:0.43509\n",
      "[57]\ttrain-rmse:0.41559\tvalidation-rmse:0.43506\n",
      "[58]\ttrain-rmse:0.41501\tvalidation-rmse:0.43488\n",
      "[59]\ttrain-rmse:0.41463\tvalidation-rmse:0.43464\n",
      "[60]\ttrain-rmse:0.41432\tvalidation-rmse:0.43460\n",
      "[61]\ttrain-rmse:0.41370\tvalidation-rmse:0.43431\n",
      "[62]\ttrain-rmse:0.41343\tvalidation-rmse:0.43426\n",
      "[63]\ttrain-rmse:0.41312\tvalidation-rmse:0.43416\n",
      "[64]\ttrain-rmse:0.41283\tvalidation-rmse:0.43420\n",
      "[65]\ttrain-rmse:0.41226\tvalidation-rmse:0.43400\n",
      "[66]\ttrain-rmse:0.41205\tvalidation-rmse:0.43402\n",
      "[67]\ttrain-rmse:0.41157\tvalidation-rmse:0.43388\n",
      "[68]\ttrain-rmse:0.41141\tvalidation-rmse:0.43378\n",
      "[69]\ttrain-rmse:0.41107\tvalidation-rmse:0.43377\n",
      "[70]\ttrain-rmse:0.41059\tvalidation-rmse:0.43361\n",
      "[71]\ttrain-rmse:0.41022\tvalidation-rmse:0.43365\n",
      "[72]\ttrain-rmse:0.40965\tvalidation-rmse:0.43355\n",
      "[73]\ttrain-rmse:0.40945\tvalidation-rmse:0.43354\n",
      "[74]\ttrain-rmse:0.40933\tvalidation-rmse:0.43347\n",
      "[75]\ttrain-rmse:0.40876\tvalidation-rmse:0.43336\n",
      "[76]\ttrain-rmse:0.40831\tvalidation-rmse:0.43310\n",
      "[77]\ttrain-rmse:0.40801\tvalidation-rmse:0.43306\n",
      "[78]\ttrain-rmse:0.40795\tvalidation-rmse:0.43311\n",
      "[79]\ttrain-rmse:0.40768\tvalidation-rmse:0.43304\n",
      "[80]\ttrain-rmse:0.40747\tvalidation-rmse:0.43306\n",
      "[81]\ttrain-rmse:0.40726\tvalidation-rmse:0.43313\n",
      "[82]\ttrain-rmse:0.40715\tvalidation-rmse:0.43313\n",
      "[83]\ttrain-rmse:0.40684\tvalidation-rmse:0.43313\n",
      "[84]\ttrain-rmse:0.40674\tvalidation-rmse:0.43314\n",
      "[85]\ttrain-rmse:0.40626\tvalidation-rmse:0.43299\n",
      "[86]\ttrain-rmse:0.40573\tvalidation-rmse:0.43286\n",
      "[87]\ttrain-rmse:0.40554\tvalidation-rmse:0.43291\n",
      "[88]\ttrain-rmse:0.40535\tvalidation-rmse:0.43289\n",
      "[89]\ttrain-rmse:0.40511\tvalidation-rmse:0.43285\n",
      "[90]\ttrain-rmse:0.40478\tvalidation-rmse:0.43280\n",
      "[91]\ttrain-rmse:0.40457\tvalidation-rmse:0.43269\n",
      "[92]\ttrain-rmse:0.40439\tvalidation-rmse:0.43272\n",
      "[93]\ttrain-rmse:0.40429\tvalidation-rmse:0.43272\n",
      "[94]\ttrain-rmse:0.40421\tvalidation-rmse:0.43271\n",
      "[95]\ttrain-rmse:0.40406\tvalidation-rmse:0.43272\n",
      "[96]\ttrain-rmse:0.40397\tvalidation-rmse:0.43272\n",
      "[97]\ttrain-rmse:0.40361\tvalidation-rmse:0.43269\n",
      "[98]\ttrain-rmse:0.40321\tvalidation-rmse:0.43260\n",
      "[99]\ttrain-rmse:0.40277\tvalidation-rmse:0.43250\n"
     ]
    }
   ],
   "source": [
    "# eta = 0.1\n",
    "\n",
    "xgb_params = {\n",
    "    'eta': 0.1, \n",
    "    'max_depth': 6,\n",
    "    'min_child_weight': 1,\n",
    "\n",
    "    'objective': 'reg:squarederror',\n",
    "    'nthread': 8,\n",
    "\n",
    "    'seed': 1,\n",
    "    'verbosity': 1,\n",
    "}\n",
    "\n",
    "watchlist = [(dtrain, 'train'), (dval, 'validation')]\n",
    "\n",
    "model1 = xgb.train(xgb_params, dtrain, num_boost_round=100, evals=watchlist)"
   ]
  },
  {
   "cell_type": "code",
   "execution_count": 28,
   "metadata": {},
   "outputs": [
    {
     "data": {
      "text/plain": [
       "0.43249655247991464"
      ]
     },
     "execution_count": 28,
     "metadata": {},
     "output_type": "execute_result"
    }
   ],
   "source": [
    "y_pred1 = model1.predict(dval)\n",
    "rmse = mean_squared_error(y_val, y_pred1, squared=False)\n",
    "rmse"
   ]
  },
  {
   "cell_type": "code",
   "execution_count": 29,
   "metadata": {},
   "outputs": [
    {
     "name": "stdout",
     "output_type": "stream",
     "text": [
      "[0]\ttrain-rmse:4.25336\tvalidation-rmse:4.25010\n",
      "[1]\ttrain-rmse:4.21141\tvalidation-rmse:4.20815\n",
      "[2]\ttrain-rmse:4.16988\tvalidation-rmse:4.16661\n",
      "[3]\ttrain-rmse:4.12877\tvalidation-rmse:4.12551\n",
      "[4]\ttrain-rmse:4.08807\tvalidation-rmse:4.08481\n",
      "[5]\ttrain-rmse:4.04779\tvalidation-rmse:4.04454\n",
      "[6]\ttrain-rmse:4.00792\tvalidation-rmse:4.00467\n",
      "[7]\ttrain-rmse:3.96845\tvalidation-rmse:3.96521\n",
      "[8]\ttrain-rmse:3.92937\tvalidation-rmse:3.92615\n",
      "[9]\ttrain-rmse:3.89070\tvalidation-rmse:3.88749\n",
      "[10]\ttrain-rmse:3.85242\tvalidation-rmse:3.84921\n",
      "[11]\ttrain-rmse:3.81452\tvalidation-rmse:3.81133\n",
      "[12]\ttrain-rmse:3.77701\tvalidation-rmse:3.77382\n",
      "[13]\ttrain-rmse:3.73988\tvalidation-rmse:3.73671\n",
      "[14]\ttrain-rmse:3.70313\tvalidation-rmse:3.69996\n",
      "[15]\ttrain-rmse:3.66674\tvalidation-rmse:3.66359\n",
      "[16]\ttrain-rmse:3.63073\tvalidation-rmse:3.62759\n",
      "[17]\ttrain-rmse:3.59508\tvalidation-rmse:3.59195\n",
      "[18]\ttrain-rmse:3.55979\tvalidation-rmse:3.55666\n",
      "[19]\ttrain-rmse:3.52487\tvalidation-rmse:3.52175\n",
      "[20]\ttrain-rmse:3.49030\tvalidation-rmse:3.48719\n",
      "[21]\ttrain-rmse:3.45608\tvalidation-rmse:3.45298\n",
      "[22]\ttrain-rmse:3.42220\tvalidation-rmse:3.41910\n",
      "[23]\ttrain-rmse:3.38867\tvalidation-rmse:3.38559\n",
      "[24]\ttrain-rmse:3.35548\tvalidation-rmse:3.35240\n",
      "[25]\ttrain-rmse:3.32263\tvalidation-rmse:3.31956\n",
      "[26]\ttrain-rmse:3.29011\tvalidation-rmse:3.28706\n",
      "[27]\ttrain-rmse:3.25793\tvalidation-rmse:3.25488\n",
      "[28]\ttrain-rmse:3.22606\tvalidation-rmse:3.22302\n",
      "[29]\ttrain-rmse:3.19453\tvalidation-rmse:3.19150\n",
      "[30]\ttrain-rmse:3.16332\tvalidation-rmse:3.16029\n",
      "[31]\ttrain-rmse:3.13243\tvalidation-rmse:3.12941\n",
      "[32]\ttrain-rmse:3.10184\tvalidation-rmse:3.09884\n",
      "[33]\ttrain-rmse:3.07157\tvalidation-rmse:3.06858\n",
      "[34]\ttrain-rmse:3.04161\tvalidation-rmse:3.03863\n",
      "[35]\ttrain-rmse:3.01196\tvalidation-rmse:3.00898\n",
      "[36]\ttrain-rmse:2.98261\tvalidation-rmse:2.97966\n",
      "[37]\ttrain-rmse:2.95356\tvalidation-rmse:2.95061\n",
      "[38]\ttrain-rmse:2.92480\tvalidation-rmse:2.92190\n",
      "[39]\ttrain-rmse:2.89634\tvalidation-rmse:2.89346\n",
      "[40]\ttrain-rmse:2.86817\tvalidation-rmse:2.86533\n",
      "[41]\ttrain-rmse:2.84029\tvalidation-rmse:2.83745\n",
      "[42]\ttrain-rmse:2.81268\tvalidation-rmse:2.80988\n",
      "[43]\ttrain-rmse:2.78538\tvalidation-rmse:2.78258\n",
      "[44]\ttrain-rmse:2.75834\tvalidation-rmse:2.75558\n",
      "[45]\ttrain-rmse:2.73158\tvalidation-rmse:2.72884\n",
      "[46]\ttrain-rmse:2.70510\tvalidation-rmse:2.70238\n",
      "[47]\ttrain-rmse:2.67889\tvalidation-rmse:2.67619\n",
      "[48]\ttrain-rmse:2.65294\tvalidation-rmse:2.65027\n",
      "[49]\ttrain-rmse:2.62726\tvalidation-rmse:2.62463\n",
      "[50]\ttrain-rmse:2.60185\tvalidation-rmse:2.59925\n",
      "[51]\ttrain-rmse:2.57670\tvalidation-rmse:2.57412\n",
      "[52]\ttrain-rmse:2.55181\tvalidation-rmse:2.54923\n",
      "[53]\ttrain-rmse:2.52717\tvalidation-rmse:2.52461\n",
      "[54]\ttrain-rmse:2.50278\tvalidation-rmse:2.50025\n",
      "[55]\ttrain-rmse:2.47865\tvalidation-rmse:2.47612\n",
      "[56]\ttrain-rmse:2.45477\tvalidation-rmse:2.45227\n",
      "[57]\ttrain-rmse:2.43113\tvalidation-rmse:2.42867\n",
      "[58]\ttrain-rmse:2.40774\tvalidation-rmse:2.40530\n",
      "[59]\ttrain-rmse:2.38459\tvalidation-rmse:2.38218\n",
      "[60]\ttrain-rmse:2.36167\tvalidation-rmse:2.35927\n",
      "[61]\ttrain-rmse:2.33900\tvalidation-rmse:2.33663\n",
      "[62]\ttrain-rmse:2.31655\tvalidation-rmse:2.31421\n",
      "[63]\ttrain-rmse:2.29434\tvalidation-rmse:2.29202\n",
      "[64]\ttrain-rmse:2.27236\tvalidation-rmse:2.27006\n",
      "[65]\ttrain-rmse:2.25061\tvalidation-rmse:2.24835\n",
      "[66]\ttrain-rmse:2.22908\tvalidation-rmse:2.22684\n",
      "[67]\ttrain-rmse:2.20778\tvalidation-rmse:2.20557\n",
      "[68]\ttrain-rmse:2.18670\tvalidation-rmse:2.18450\n",
      "[69]\ttrain-rmse:2.16583\tvalidation-rmse:2.16365\n",
      "[70]\ttrain-rmse:2.14519\tvalidation-rmse:2.14303\n",
      "[71]\ttrain-rmse:2.12476\tvalidation-rmse:2.12263\n",
      "[72]\ttrain-rmse:2.10454\tvalidation-rmse:2.10242\n",
      "[73]\ttrain-rmse:2.08453\tvalidation-rmse:2.08242\n",
      "[74]\ttrain-rmse:2.06474\tvalidation-rmse:2.06266\n",
      "[75]\ttrain-rmse:2.04514\tvalidation-rmse:2.04311\n",
      "[76]\ttrain-rmse:2.02576\tvalidation-rmse:2.02374\n",
      "[77]\ttrain-rmse:2.00657\tvalidation-rmse:2.00458\n",
      "[78]\ttrain-rmse:1.98759\tvalidation-rmse:1.98561\n",
      "[79]\ttrain-rmse:1.96880\tvalidation-rmse:1.96685\n",
      "[80]\ttrain-rmse:1.95022\tvalidation-rmse:1.94827\n",
      "[81]\ttrain-rmse:1.93182\tvalidation-rmse:1.92990\n",
      "[82]\ttrain-rmse:1.91362\tvalidation-rmse:1.91172\n",
      "[83]\ttrain-rmse:1.89561\tvalidation-rmse:1.89376\n",
      "[84]\ttrain-rmse:1.87778\tvalidation-rmse:1.87594\n",
      "[85]\ttrain-rmse:1.86015\tvalidation-rmse:1.85833\n",
      "[86]\ttrain-rmse:1.84270\tvalidation-rmse:1.84091\n",
      "[87]\ttrain-rmse:1.82544\tvalidation-rmse:1.82366\n",
      "[88]\ttrain-rmse:1.80834\tvalidation-rmse:1.80660\n",
      "[89]\ttrain-rmse:1.79144\tvalidation-rmse:1.78973\n",
      "[90]\ttrain-rmse:1.77472\tvalidation-rmse:1.77302\n",
      "[91]\ttrain-rmse:1.75817\tvalidation-rmse:1.75649\n",
      "[92]\ttrain-rmse:1.74181\tvalidation-rmse:1.74016\n",
      "[93]\ttrain-rmse:1.72561\tvalidation-rmse:1.72398\n",
      "[94]\ttrain-rmse:1.70958\tvalidation-rmse:1.70797\n",
      "[95]\ttrain-rmse:1.69373\tvalidation-rmse:1.69214\n",
      "[96]\ttrain-rmse:1.67804\tvalidation-rmse:1.67647\n",
      "[97]\ttrain-rmse:1.66251\tvalidation-rmse:1.66095\n",
      "[98]\ttrain-rmse:1.64716\tvalidation-rmse:1.64563\n",
      "[99]\ttrain-rmse:1.63198\tvalidation-rmse:1.63045\n"
     ]
    }
   ],
   "source": [
    "# eta = 0.01\n",
    "\n",
    "xgb_params = {\n",
    "    'eta': 0.01, \n",
    "    'max_depth': 6,\n",
    "    'min_child_weight': 1,\n",
    "\n",
    "    'objective': 'reg:squarederror',\n",
    "    'nthread': 8,\n",
    "\n",
    "    'seed': 1,\n",
    "    'verbosity': 1,\n",
    "}\n",
    "\n",
    "watchlist = [(dtrain, 'train'), (dval, 'validation')]\n",
    "\n",
    "model2 = xgb.train(xgb_params, dtrain, num_boost_round=100, evals=watchlist)"
   ]
  },
  {
   "cell_type": "code",
   "execution_count": 30,
   "metadata": {},
   "outputs": [
    {
     "data": {
      "text/plain": [
       "1.630452438951798"
      ]
     },
     "execution_count": 30,
     "metadata": {},
     "output_type": "execute_result"
    }
   ],
   "source": [
    "y_pred2 = model2.predict(dval)\n",
    "rmse = mean_squared_error(y_val, y_pred2, squared=False)\n",
    "rmse"
   ]
  },
  {
   "cell_type": "markdown",
   "metadata": {},
   "source": [
    "What's the best eta?\n",
    "\n",
    "* 0.3\n",
    "* 0.1\n",
    "* 0.01"
   ]
  },
  {
   "cell_type": "markdown",
   "metadata": {},
   "source": [
    "### Answer 6\n",
    "best **`eta`** = **`0.1`**"
   ]
  },
  {
   "cell_type": "markdown",
   "metadata": {},
   "source": [
    "## Submit the results\n",
    "\n",
    "\n",
    "Submit your results here: https://forms.gle/wQgFkYE6CtdDed4w8\n",
    "\n",
    "It's possible that your answers won't match exactly. If it's the case, select the closest one.\n",
    "\n",
    "\n",
    "## Deadline\n",
    "\n",
    "\n",
    "The deadline for submitting is 20 October 2021, 17:00 CET (Wednesday). After that, the form will be closed.\n",
    "\n"
   ]
  }
 ],
 "metadata": {
  "kernelspec": {
   "display_name": "Python 3 (ipykernel)",
   "language": "python",
   "name": "python3"
  },
  "language_info": {
   "codemirror_mode": {
    "name": "ipython",
    "version": 3
   },
   "file_extension": ".py",
   "mimetype": "text/x-python",
   "name": "python",
   "nbconvert_exporter": "python",
   "pygments_lexer": "ipython3",
   "version": "3.8.8"
  }
 },
 "nbformat": 4,
 "nbformat_minor": 2
}
